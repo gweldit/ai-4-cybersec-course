{
 "cells": [
  {
   "cell_type": "markdown",
   "metadata": {},
   "source": [
    "# Quick Introduction to PyTorch\n"
   ]
  },
  {
   "cell_type": "code",
   "execution_count": 3,
   "metadata": {},
   "outputs": [],
   "source": [
    "## In this section, we will practice how to use PyTorch to operation matrix addtion, subbraction, multiplication."
   ]
  },
  {
   "cell_type": "code",
   "execution_count": 6,
   "metadata": {},
   "outputs": [],
   "source": [
    "# import pytorch library to help us create matrices (also known as tensors)\n",
    "import torch\n",
    "\n",
    "# create matrix / tensor A\n",
    "A = torch.tensor([[1, 2], [5, 8]])\n",
    "\n",
    "# create matrix/ tensor B\n",
    "B = torch.tensor([[4, 5], [2, 1]])"
   ]
  },
  {
   "cell_type": "code",
   "execution_count": 7,
   "metadata": {},
   "outputs": [
    {
     "name": "stdout",
     "output_type": "stream",
     "text": [
      "tensor([[1, 2],\n",
      "        [5, 8]])\n"
     ]
    }
   ],
   "source": [
    "print(A)"
   ]
  },
  {
   "cell_type": "code",
   "execution_count": 5,
   "metadata": {},
   "outputs": [
    {
     "name": "stdout",
     "output_type": "stream",
     "text": [
      "tensor([[4, 5],\n",
      "        [2, 1]])\n"
     ]
    }
   ],
   "source": [
    "print(B)"
   ]
  },
  {
   "cell_type": "code",
   "execution_count": 8,
   "metadata": {},
   "outputs": [
    {
     "name": "stdout",
     "output_type": "stream",
     "text": [
      "tensor([[5, 7],\n",
      "        [7, 9]])\n"
     ]
    }
   ],
   "source": [
    "# matrix addition\n",
    "\n",
    "C = A + B\n",
    "print(C)"
   ]
  },
  {
   "cell_type": "code",
   "execution_count": 9,
   "metadata": {},
   "outputs": [
    {
     "name": "stdout",
     "output_type": "stream",
     "text": [
      "tensor([[-3, -3],\n",
      "        [ 3,  7]])\n"
     ]
    }
   ],
   "source": [
    "# matrix subtraction\n",
    "D = A - B\n",
    "print(D)"
   ]
  },
  {
   "cell_type": "code",
   "execution_count": 10,
   "metadata": {},
   "outputs": [
    {
     "name": "stdout",
     "output_type": "stream",
     "text": [
      "tensor([[ 8,  7],\n",
      "        [36, 33]])\n"
     ]
    }
   ],
   "source": [
    "# matrix multiply\n",
    "\n",
    "E = A @ B\n",
    "\n",
    "print(E)"
   ]
  },
  {
   "cell_type": "code",
   "execution_count": 11,
   "metadata": {},
   "outputs": [
    {
     "name": "stdout",
     "output_type": "stream",
     "text": [
      "tensor([[ 8,  7],\n",
      "        [36, 33]])\n"
     ]
    }
   ],
   "source": [
    "# other method to multply matrix:\n",
    "K = torch.matmul(A, B)\n",
    "print(K)"
   ]
  },
  {
   "cell_type": "markdown",
   "metadata": {},
   "source": [
    "> Note: Deep Learning is a bunch of matrix multiplication and addition.\n"
   ]
  }
 ],
 "metadata": {
  "kernelspec": {
   "display_name": "graphganvenv",
   "language": "python",
   "name": "python3"
  },
  "language_info": {
   "codemirror_mode": {
    "name": "ipython",
    "version": 3
   },
   "file_extension": ".py",
   "mimetype": "text/x-python",
   "name": "python",
   "nbconvert_exporter": "python",
   "pygments_lexer": "ipython3",
   "version": "3.12.0"
  }
 },
 "nbformat": 4,
 "nbformat_minor": 2
}
