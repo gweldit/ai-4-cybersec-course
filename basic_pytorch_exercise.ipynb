{
 "cells": [
  {
   "cell_type": "markdown",
   "metadata": {},
   "source": [
    "# Quick Introduction to PyTorch\n"
   ]
  },
  {
   "cell_type": "code",
   "execution_count": 1,
   "metadata": {},
   "outputs": [],
   "source": [
    "## In this section, we will practice how to use PyTorch to operation matrix addtion, subbraction, multiplication."
   ]
  },
  {
   "cell_type": "code",
   "execution_count": 2,
   "metadata": {},
   "outputs": [],
   "source": [
    "# import pytorch library to help us create matrices (also known as tensors)\n",
    "import torch\n",
    "# import torch.nn as nn\n",
    "\n",
    "# create matrix / tensor A\n",
    "A = torch.tensor([[1, 2], [5, 8]])\n",
    "\n",
    "# create matrix/ tensor B\n",
    "B = torch.tensor([[4, 5], [2, 1]])"
   ]
  },
  {
   "cell_type": "code",
   "execution_count": 3,
   "metadata": {},
   "outputs": [
    {
     "name": "stdout",
     "output_type": "stream",
     "text": [
      "tensor([[1, 2],\n",
      "        [5, 8]])\n"
     ]
    }
   ],
   "source": [
    "print(A)"
   ]
  },
  {
   "cell_type": "code",
   "execution_count": 4,
   "metadata": {},
   "outputs": [
    {
     "name": "stdout",
     "output_type": "stream",
     "text": [
      "tensor([[4, 5],\n",
      "        [2, 1]])\n"
     ]
    }
   ],
   "source": [
    "print(B)"
   ]
  },
  {
   "cell_type": "code",
   "execution_count": 5,
   "metadata": {},
   "outputs": [
    {
     "name": "stdout",
     "output_type": "stream",
     "text": [
      "tensor([[5, 7],\n",
      "        [7, 9]])\n"
     ]
    }
   ],
   "source": [
    "# matrix addition\n",
    "\n",
    "C = A + B\n",
    "print(C)"
   ]
  },
  {
   "cell_type": "code",
   "execution_count": 6,
   "metadata": {},
   "outputs": [
    {
     "name": "stdout",
     "output_type": "stream",
     "text": [
      "tensor([[-3, -3],\n",
      "        [ 3,  7]])\n"
     ]
    }
   ],
   "source": [
    "# matrix subtraction\n",
    "D = A - B\n",
    "print(D)"
   ]
  },
  {
   "cell_type": "code",
   "execution_count": 7,
   "metadata": {},
   "outputs": [
    {
     "name": "stdout",
     "output_type": "stream",
     "text": [
      "tensor([[ 8,  7],\n",
      "        [36, 33]])\n"
     ]
    }
   ],
   "source": [
    "# matrix multiply\n",
    "\n",
    "E = A @ B\n",
    "\n",
    "print(E)"
   ]
  },
  {
   "cell_type": "code",
   "execution_count": 8,
   "metadata": {},
   "outputs": [
    {
     "name": "stdout",
     "output_type": "stream",
     "text": [
      "tensor([[ 8,  7],\n",
      "        [36, 33]])\n"
     ]
    }
   ],
   "source": [
    "# other method to multply matrix:\n",
    "K = torch.matmul(A, B)\n",
    "print(K)"
   ]
  },
  {
   "cell_type": "markdown",
   "metadata": {},
   "source": [
    "> Note: Deep Learning is a bunch of matrix multiplication and addition.\n"
   ]
  },
  {
   "cell_type": "markdown",
   "metadata": {},
   "source": [
    "# To Learn more about\n",
    "\n",
    "```\n",
    "In Single Layer Perceptron (SLP), we have the following things:\n",
    "\n",
    "  1) Inputs: X\n",
    "  2) Weights: W\n",
    "  3) Predicted Output: Y_pred = X @ W\n",
    "  4) Targets: Y  (it will be given in supervised learning)\n",
    "\n",
    "```\n"
   ]
  },
  {
   "cell_type": "code",
   "execution_count": 9,
   "metadata": {},
   "outputs": [
    {
     "data": {
      "text/plain": [
       "tensor([[-10.],\n",
       "        [ -9.],\n",
       "        [ -8.],\n",
       "        [ -7.],\n",
       "        [ -6.],\n",
       "        [ -5.],\n",
       "        [ -4.],\n",
       "        [ -3.],\n",
       "        [ -2.],\n",
       "        [ -1.],\n",
       "        [  0.],\n",
       "        [  1.],\n",
       "        [  2.],\n",
       "        [  3.],\n",
       "        [  4.],\n",
       "        [  5.],\n",
       "        [  6.],\n",
       "        [  7.],\n",
       "        [  8.],\n",
       "        [  9.],\n",
       "        [ 10.]])"
      ]
     },
     "execution_count": 9,
     "metadata": {},
     "output_type": "execute_result"
    }
   ],
   "source": [
    "# In deep learning, the first algorithm to learn is single layer perceptron.\n",
    "# It is a simple algorithm that can be used to solve classification (if sigmoid is used as final layer) or forcasting problems.\n",
    "\n",
    "# Here is an example of logistic regression. Assume, you are given an input X, which has five rows and each row has two columns (features).\n",
    "\n",
    "X = torch.arange(-10, 11, step=1).reshape(-1, 1)\n",
    "\n",
    "# change X to float\n",
    "X = X.float()\n",
    "\n",
    "X  # check, X is our input data"
   ]
  },
  {
   "cell_type": "code",
   "execution_count": 10,
   "metadata": {},
   "outputs": [
    {
     "data": {
      "text/plain": [
       "torch.Size([21, 1])"
      ]
     },
     "execution_count": 10,
     "metadata": {},
     "output_type": "execute_result"
    }
   ],
   "source": [
    "X.shape  # our input data, X, has 21 rows and 1 column (feature)"
   ]
  },
  {
   "cell_type": "code",
   "execution_count": 11,
   "metadata": {},
   "outputs": [
    {
     "data": {
      "text/plain": [
       "tensor([[-20.],\n",
       "        [-18.],\n",
       "        [-16.],\n",
       "        [-14.],\n",
       "        [-12.],\n",
       "        [-10.],\n",
       "        [ -8.],\n",
       "        [ -6.],\n",
       "        [ -4.],\n",
       "        [ -2.],\n",
       "        [  0.],\n",
       "        [  2.],\n",
       "        [  4.],\n",
       "        [  6.],\n",
       "        [  8.],\n",
       "        [ 10.],\n",
       "        [ 12.],\n",
       "        [ 14.],\n",
       "        [ 16.],\n",
       "        [ 18.],\n",
       "        [ 20.]])"
      ]
     },
     "execution_count": 11,
     "metadata": {},
     "output_type": "execute_result"
    }
   ],
   "source": [
    "Y = 2 * X\n",
    "Y"
   ]
  },
  {
   "cell_type": "code",
   "execution_count": 12,
   "metadata": {},
   "outputs": [
    {
     "data": {
      "text/plain": [
       "tensor([[0.1402]])"
      ]
     },
     "execution_count": 12,
     "metadata": {},
     "output_type": "execute_result"
    }
   ],
   "source": [
    "W = torch.randn(X.shape[1], 1)\n",
    "W"
   ]
  },
  {
   "cell_type": "code",
   "execution_count": 13,
   "metadata": {},
   "outputs": [
    {
     "data": {
      "text/plain": [
       "tensor([[-1.4016],\n",
       "        [-1.2614],\n",
       "        [-1.1213],\n",
       "        [-0.9811],\n",
       "        [-0.8410],\n",
       "        [-0.7008],\n",
       "        [-0.5606],\n",
       "        [-0.4205],\n",
       "        [-0.2803],\n",
       "        [-0.1402],\n",
       "        [ 0.0000],\n",
       "        [ 0.1402],\n",
       "        [ 0.2803],\n",
       "        [ 0.4205],\n",
       "        [ 0.5606],\n",
       "        [ 0.7008],\n",
       "        [ 0.8410],\n",
       "        [ 0.9811],\n",
       "        [ 1.1213],\n",
       "        [ 1.2614],\n",
       "        [ 1.4016]])"
      ]
     },
     "execution_count": 13,
     "metadata": {},
     "output_type": "execute_result"
    }
   ],
   "source": [
    "Y_pred = X @ W\n",
    "\n",
    "Y_pred"
   ]
  },
  {
   "cell_type": "code",
   "execution_count": 18,
   "metadata": {},
   "outputs": [],
   "source": [
    "# Now, let's build a simple model that predicts Y = 2 * X\n",
    "class SingleLayerPerceptron:\n",
    "    def __init__(self, input_size, learning_rate=0.001):\n",
    "        super(SingleLayerPerceptron, self).__init__()\n",
    "        self.W = torch.zeros(input_size, 1)\n",
    "        self.learning_rate = learning_rate\n",
    "        self.dW = 0.0  # gradients\n",
    "\n",
    "    def forward(self, X):\n",
    "        Y_pred = X @ self.W\n",
    "        return Y_pred\n",
    "\n",
    "    def backward(self, X, Y_pred, Y):\n",
    "        # derivate of MSELoss w.r.t W: 2 * X * (Y_pred - Y)\n",
    "        diff = Y_pred - Y\n",
    "        # print(\"num of samples = \", len(X))\n",
    "        self.dW = 2 * (X.T @ diff) / len(X)\n",
    "\n",
    "    def step(self):\n",
    "        # print(self.dW.shape)\n",
    "        self.W -= self.dW * self.learning_rate"
   ]
  },
  {
   "cell_type": "code",
   "execution_count": 19,
   "metadata": {},
   "outputs": [
    {
     "name": "stdout",
     "output_type": "stream",
     "text": [
      "Model's Weight at epoch: 1 = 0.000\n",
      "Model's Weight at epoch: 2 = 0.147\n",
      "Model's Weight at epoch: 3 = 0.283\n",
      "Model's Weight at epoch: 4 = 0.409\n",
      "Model's Weight at epoch: 5 = 0.525\n",
      "Model's Weight at epoch: 6 = 0.633\n",
      "Model's Weight at epoch: 7 = 0.734\n",
      "Model's Weight at epoch: 8 = 0.826\n",
      "Model's Weight at epoch: 9 = 0.913\n",
      "Model's Weight at epoch: 10 = 0.992\n",
      "Model's Weight at epoch: 11 = 1.066\n",
      "Model's Weight at epoch: 12 = 1.135\n",
      "Model's Weight at epoch: 13 = 1.198\n",
      "Model's Weight at epoch: 14 = 1.257\n",
      "Model's Weight at epoch: 15 = 1.311\n",
      "Model's Weight at epoch: 16 = 1.362\n",
      "Model's Weight at epoch: 17 = 1.409\n",
      "Model's Weight at epoch: 18 = 1.452\n",
      "Model's Weight at epoch: 19 = 1.492\n",
      "Model's Weight at epoch: 20 = 1.529\n",
      "Model's Weight at epoch: 21 = 1.564\n",
      "Model's Weight at epoch: 22 = 1.596\n",
      "Model's Weight at epoch: 23 = 1.626\n",
      "Model's Weight at epoch: 24 = 1.653\n",
      "Model's Weight at epoch: 25 = 1.678\n",
      "Model's Weight at epoch: 26 = 1.702\n",
      "Model's Weight at epoch: 27 = 1.724\n",
      "Model's Weight at epoch: 28 = 1.744\n",
      "Model's Weight at epoch: 29 = 1.763\n",
      "Model's Weight at epoch: 30 = 1.780\n",
      "Model's Weight at epoch: 31 = 1.796\n",
      "Model's Weight at epoch: 32 = 1.811\n",
      "Model's Weight at epoch: 33 = 1.825\n",
      "Model's Weight at epoch: 34 = 1.838\n",
      "Model's Weight at epoch: 35 = 1.850\n",
      "Model's Weight at epoch: 36 = 1.861\n",
      "Model's Weight at epoch: 37 = 1.871\n",
      "Model's Weight at epoch: 38 = 1.881\n",
      "Model's Weight at epoch: 39 = 1.889\n",
      "Model's Weight at epoch: 40 = 1.897\n",
      "Model's Weight at epoch: 41 = 1.905\n",
      "Model's Weight at epoch: 42 = 1.912\n",
      "Model's Weight at epoch: 43 = 1.918\n",
      "Model's Weight at epoch: 44 = 1.924\n",
      "Model's Weight at epoch: 45 = 1.930\n",
      "Model's Weight at epoch: 46 = 1.935\n",
      "Model's Weight at epoch: 47 = 1.940\n",
      "Model's Weight at epoch: 48 = 1.944\n",
      "Model's Weight at epoch: 49 = 1.948\n",
      "Model's Weight at epoch: 50 = 1.952\n",
      "Model's Weight at epoch: 51 = 1.956\n",
      "Model's Weight at epoch: 52 = 1.959\n",
      "Model's Weight at epoch: 53 = 1.962\n",
      "Model's Weight at epoch: 54 = 1.965\n",
      "Model's Weight at epoch: 55 = 1.967\n",
      "Model's Weight at epoch: 56 = 1.970\n",
      "Model's Weight at epoch: 57 = 1.972\n",
      "Model's Weight at epoch: 58 = 1.974\n",
      "Model's Weight at epoch: 59 = 1.976\n",
      "Model's Weight at epoch: 60 = 1.978\n",
      "Model's Weight at epoch: 61 = 1.979\n",
      "Model's Weight at epoch: 62 = 1.981\n",
      "Model's Weight at epoch: 63 = 1.982\n",
      "Model's Weight at epoch: 64 = 1.984\n",
      "Model's Weight at epoch: 65 = 1.985\n",
      "Model's Weight at epoch: 66 = 1.986\n",
      "Model's Weight at epoch: 67 = 1.987\n",
      "Model's Weight at epoch: 68 = 1.988\n",
      "Model's Weight at epoch: 69 = 1.989\n",
      "Model's Weight at epoch: 70 = 1.990\n",
      "Model's Weight at epoch: 71 = 1.990\n",
      "Model's Weight at epoch: 72 = 1.991\n",
      "Model's Weight at epoch: 73 = 1.992\n",
      "Model's Weight at epoch: 74 = 1.992\n",
      "Model's Weight at epoch: 75 = 1.993\n",
      "Model's Weight at epoch: 76 = 1.993\n",
      "Model's Weight at epoch: 77 = 1.994\n",
      "Model's Weight at epoch: 78 = 1.994\n",
      "Model's Weight at epoch: 79 = 1.995\n",
      "Model's Weight at epoch: 80 = 1.995\n",
      "Model's Weight at epoch: 81 = 1.995\n",
      "Model's Weight at epoch: 82 = 1.996\n",
      "Model's Weight at epoch: 83 = 1.996\n",
      "Model's Weight at epoch: 84 = 1.996\n",
      "Model's Weight at epoch: 85 = 1.997\n",
      "Model's Weight at epoch: 86 = 1.997\n",
      "Model's Weight at epoch: 87 = 1.997\n",
      "Model's Weight at epoch: 88 = 1.997\n",
      "Model's Weight at epoch: 89 = 1.998\n",
      "Model's Weight at epoch: 90 = 1.998\n",
      "Model's Weight at epoch: 91 = 1.998\n",
      "Model's Weight at epoch: 92 = 1.998\n",
      "Model's Weight at epoch: 93 = 1.998\n",
      "Model's Weight at epoch: 94 = 1.998\n",
      "Model's Weight at epoch: 95 = 1.998\n",
      "Model's Weight at epoch: 96 = 1.999\n",
      "Model's Weight at epoch: 97 = 1.999\n",
      "Model's Weight at epoch: 98 = 1.999\n",
      "Model's Weight at epoch: 99 = 1.999\n",
      "Model's Weight at epoch: 100 = 1.999\n"
     ]
    }
   ],
   "source": [
    "def train_model(model, X, Y, epochs):\n",
    "    for epoch in range(epochs):\n",
    "        print(f\"Model's Weight at epoch: {epoch + 1} = {model.W.item():.3f}\")\n",
    "        Y_pred = model.forward(X)\n",
    "        model.backward(X, Y_pred, Y)\n",
    "        model.step()\n",
    "\n",
    "\n",
    "input_size = X.shape[1]\n",
    "model = SingleLayerPerceptron(input_size)\n",
    "epochs = 100  # number of times our model sees the data: X\n",
    "\n",
    "# train our model\n",
    "train_model(model, X, Y, epochs)"
   ]
  },
  {
   "cell_type": "code",
   "execution_count": 20,
   "metadata": {},
   "outputs": [
    {
     "data": {
      "text/plain": [
       "21.989168167114258"
      ]
     },
     "execution_count": 20,
     "metadata": {},
     "output_type": "execute_result"
    }
   ],
   "source": [
    "# Let's make a predict: y_pred = W * x = 1.999  * 11.0 = 21.98\n",
    "y_pred = model.forward(torch.tensor(11.0).reshape(1, 1))\n",
    "y_pred.item()"
   ]
  },
  {
   "cell_type": "code",
   "execution_count": 21,
   "metadata": {},
   "outputs": [
    {
     "data": {
      "text/plain": [
       "399.80303955078125"
      ]
     },
     "execution_count": 21,
     "metadata": {},
     "output_type": "execute_result"
    }
   ],
   "source": [
    "# Now, let's predict if x is 200, what is y going to be:\n",
    "# using our mathematical equation: y = 2  * 200 + 1 = 401\n",
    "y_pred = model.forward(torch.tensor(200.0).reshape(1, 1))\n",
    "y_pred.item()"
   ]
  },
  {
   "cell_type": "markdown",
   "metadata": {},
   "source": [
    "```\n",
    "We implmented this simple model, that predicts y = 2 * x, from scratch. Likewise, we can use functionalities provided in pytorch to implement other simple or advanced models from scratch, very easily. For instance, you can see another simple classification model implemented models.py file using PyTorch.\n",
    "```\n"
   ]
  }
 ],
 "metadata": {
  "kernelspec": {
   "display_name": "graphganvenv",
   "language": "python",
   "name": "python3"
  },
  "language_info": {
   "codemirror_mode": {
    "name": "ipython",
    "version": 3
   },
   "file_extension": ".py",
   "mimetype": "text/x-python",
   "name": "python",
   "nbconvert_exporter": "python",
   "pygments_lexer": "ipython3",
   "version": "3.12.0"
  }
 },
 "nbformat": 4,
 "nbformat_minor": 2
}
