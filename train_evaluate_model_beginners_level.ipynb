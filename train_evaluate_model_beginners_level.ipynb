{
 "cells": [
  {
   "cell_type": "markdown",
   "metadata": {},
   "source": [
    "# Quick Introduction to PyTorch\n",
    "\n",
    "- First, if you are totally new to Python Programming, quickly read this book: [your journey to fluent python](https://github.com/pro1code1hack/Your-Journey-To-Fluent-Python)\n",
    "\n",
    "- PyTorch is python-based Deep Learning Library for develop models. To learn the basics of PyTorch, you can go to the tutorial page in [PyTorch website](https://pytorch.org/tutorials/beginner/basics/intro.html).\n",
    "\n",
    "- Also, you can check the basic_pytorch_exercise.ipynb file to see matrices multiplication and addition\n"
   ]
  },
  {
   "cell_type": "code",
   "execution_count": 1,
   "metadata": {},
   "outputs": [],
   "source": [
    "# import all the libraries required\n",
    "\n",
    "from pprint import pprint\n",
    "import os\n",
    "from pathlib import Path\n",
    "import random\n",
    "import numpy as np\n",
    "from tqdm import tqdm\n",
    "import torch\n",
    "import torch.nn as nn\n",
    "from torch import optim\n",
    "from torch.utils.data import TensorDataset, DataLoader\n",
    "\n",
    "import pandas as pd\n",
    "import matplotlib.pyplot as plt\n",
    "from sklearn.feature_extraction.text import CountVectorizer\n",
    "from sklearn.preprocessing import MinMaxScaler\n",
    "from sklearn.model_selection import train_test_split\n",
    "from sklearn.metrics import accuracy_score, precision_score, recall_score, f1_score\n",
    "\n",
    "# imort our own module\n",
    "from preprocessing_emails import PreProcessData\n",
    "\n",
    "\n",
    "import spacy"
   ]
  },
  {
   "cell_type": "code",
   "execution_count": 2,
   "metadata": {},
   "outputs": [
    {
     "data": {
      "text/plain": [
       "<torch._C.Generator at 0x113fd4a10>"
      ]
     },
     "execution_count": 2,
     "metadata": {},
     "output_type": "execute_result"
    }
   ],
   "source": [
    "# for replicability\n",
    "\n",
    "SEED = 42\n",
    "random.seed(SEED)\n",
    "np.random.seed(SEED)\n",
    "torch.manual_seed(SEED)"
   ]
  },
  {
   "cell_type": "markdown",
   "metadata": {},
   "source": [
    "# Part I: Reading and Proprocessing Data\n"
   ]
  },
  {
   "cell_type": "code",
   "execution_count": 3,
   "metadata": {},
   "outputs": [],
   "source": [
    "current_dir = os.getcwd()\n",
    "# print(\"curr dir = \", current_dir)\n",
    "# access parent folder\n",
    "parent_folder = Path(current_dir).absolute().parent\n",
    "# print(parent_folder)\n",
    "\n",
    "dataset_folder = os.path.join(parent_folder, \"phishing-email-dataset\")\n",
    "\n",
    "\n",
    "# smishing_file_path = os.path.join(\n",
    "#     dataset_folder, \"smssmishcollection/SMSSmishCollection.txt\"\n",
    "# )\n",
    "\n",
    "# print(smishing_file_path)\n",
    "\n",
    "# df = read_smish_data(smishing_file_path)\n",
    "# # # df[\"clean_text\"] = df[\"sms_message\"].apply(clean_text)\n",
    "\n",
    "# corpus = df[\"sms_message\"].tolist()\n",
    "# cleaned_corpus = [clean_text(doc) for doc in corpus]\n",
    "# df[\"clean_text\"] = cleaned_corpus\n",
    "# print(cleaned_corpus[:10])"
   ]
  },
  {
   "cell_type": "code",
   "execution_count": 4,
   "metadata": {},
   "outputs": [
    {
     "data": {
      "text/plain": [
       "['.DS_Store', '8339691.zip', 'smssmishcollection', '8339691']"
      ]
     },
     "execution_count": 4,
     "metadata": {},
     "output_type": "execute_result"
    }
   ],
   "source": [
    "os.listdir(dataset_folder)"
   ]
  },
  {
   "cell_type": "code",
   "execution_count": 5,
   "metadata": {},
   "outputs": [],
   "source": [
    "# os.listdir(dataset_folder + \"/\" + \"8339691/\")"
   ]
  },
  {
   "cell_type": "code",
   "execution_count": 6,
   "metadata": {},
   "outputs": [
    {
     "data": {
      "text/html": [
       "<div>\n",
       "<style scoped>\n",
       "    .dataframe tbody tr th:only-of-type {\n",
       "        vertical-align: middle;\n",
       "    }\n",
       "\n",
       "    .dataframe tbody tr th {\n",
       "        vertical-align: top;\n",
       "    }\n",
       "\n",
       "    .dataframe thead th {\n",
       "        text-align: right;\n",
       "    }\n",
       "</style>\n",
       "<table border=\"1\" class=\"dataframe\">\n",
       "  <thead>\n",
       "    <tr style=\"text-align: right;\">\n",
       "      <th></th>\n",
       "      <th>sender</th>\n",
       "      <th>receiver</th>\n",
       "      <th>date</th>\n",
       "      <th>subject</th>\n",
       "      <th>body</th>\n",
       "      <th>label</th>\n",
       "      <th>urls</th>\n",
       "    </tr>\n",
       "  </thead>\n",
       "  <tbody>\n",
       "    <tr>\n",
       "      <th>0</th>\n",
       "      <td>\"Hu, Sylvia\" &lt;Sylvia.Hu@ENRON.com&gt;</td>\n",
       "      <td>\"Acevedo, Felecia\" &lt;Felecia.Acevedo@ENRON.com&gt;...</td>\n",
       "      <td>Fri, 29 Jun 2001 08:36:09 -0500</td>\n",
       "      <td>FW: June 29 -- BNA, Inc. Daily Labor Report</td>\n",
       "      <td>User ID:  enrondlr\\nPW:        bnaweb22\\n\\n\\n ...</td>\n",
       "      <td>0</td>\n",
       "      <td>['http://web.bna.com', 'http://pubs.bna.com/ip...</td>\n",
       "    </tr>\n",
       "    <tr>\n",
       "      <th>1</th>\n",
       "      <td>\"Webb, Jay\" &lt;Jay.Webb@ENRON.com&gt;</td>\n",
       "      <td>\"Lambie, Chris\" &lt;Chris.Lambie@ENRON.com&gt;</td>\n",
       "      <td>Fri, 29 Jun 2001 09:37:04 -0500</td>\n",
       "      <td>NGX failover plan.</td>\n",
       "      <td>\\nHi Chris,  \\n\\nTonight we are rolling out a ...</td>\n",
       "      <td>0</td>\n",
       "      <td>[]</td>\n",
       "    </tr>\n",
       "    <tr>\n",
       "      <th>2</th>\n",
       "      <td>\"Symms, Mark\" &lt;Mark.Symms@ENRON.com&gt;</td>\n",
       "      <td>\"Thomas, Paul D.\" &lt;Paul.D.Thomas@ENRON.com&gt;</td>\n",
       "      <td>Fri, 29 Jun 2001 08:39:30 -0500</td>\n",
       "      <td>RE: Intranet Site</td>\n",
       "      <td>Rika r these new?\\n\\n -----Original Message---...</td>\n",
       "      <td>0</td>\n",
       "      <td>['http://eastpower.dev.corp.enron.com/summary/...</td>\n",
       "    </tr>\n",
       "    <tr>\n",
       "      <th>3</th>\n",
       "      <td>\"Thorne, Judy\" &lt;Judy.Thorne@ENRON.com&gt;</td>\n",
       "      <td>\"Grass, John\" &lt;John.Grass@ENRON.com&gt;, \"Nemec, ...</td>\n",
       "      <td>Fri, 29 Jun 2001 10:35:17 -0500</td>\n",
       "      <td>FW: ENA Upstream Company information</td>\n",
       "      <td>John/Gerald,\\n\\nWe are currently trading under...</td>\n",
       "      <td>0</td>\n",
       "      <td>[]</td>\n",
       "    </tr>\n",
       "    <tr>\n",
       "      <th>4</th>\n",
       "      <td>\"Williams, Jason R (Credit)\" &lt;Jason.R.Williams...</td>\n",
       "      <td>\"Nemec, Gerald\" &lt;Gerald.Nemec@ENRON.com&gt;, \"Dic...</td>\n",
       "      <td>Fri, 29 Jun 2001 10:40:02 -0500</td>\n",
       "      <td>New Master Physical</td>\n",
       "      <td>Gerald and Stacy -\\n\\nAttached is a worksheet ...</td>\n",
       "      <td>0</td>\n",
       "      <td>[]</td>\n",
       "    </tr>\n",
       "  </tbody>\n",
       "</table>\n",
       "</div>"
      ],
      "text/plain": [
       "                                              sender  \\\n",
       "0                 \"Hu, Sylvia\" <Sylvia.Hu@ENRON.com>   \n",
       "1                   \"Webb, Jay\" <Jay.Webb@ENRON.com>   \n",
       "2               \"Symms, Mark\" <Mark.Symms@ENRON.com>   \n",
       "3             \"Thorne, Judy\" <Judy.Thorne@ENRON.com>   \n",
       "4  \"Williams, Jason R (Credit)\" <Jason.R.Williams...   \n",
       "\n",
       "                                            receiver  \\\n",
       "0  \"Acevedo, Felecia\" <Felecia.Acevedo@ENRON.com>...   \n",
       "1           \"Lambie, Chris\" <Chris.Lambie@ENRON.com>   \n",
       "2        \"Thomas, Paul D.\" <Paul.D.Thomas@ENRON.com>   \n",
       "3  \"Grass, John\" <John.Grass@ENRON.com>, \"Nemec, ...   \n",
       "4  \"Nemec, Gerald\" <Gerald.Nemec@ENRON.com>, \"Dic...   \n",
       "\n",
       "                              date  \\\n",
       "0  Fri, 29 Jun 2001 08:36:09 -0500   \n",
       "1  Fri, 29 Jun 2001 09:37:04 -0500   \n",
       "2  Fri, 29 Jun 2001 08:39:30 -0500   \n",
       "3  Fri, 29 Jun 2001 10:35:17 -0500   \n",
       "4  Fri, 29 Jun 2001 10:40:02 -0500   \n",
       "\n",
       "                                       subject  \\\n",
       "0  FW: June 29 -- BNA, Inc. Daily Labor Report   \n",
       "1                           NGX failover plan.   \n",
       "2                            RE: Intranet Site   \n",
       "3         FW: ENA Upstream Company information   \n",
       "4                          New Master Physical   \n",
       "\n",
       "                                                body  label  \\\n",
       "0  User ID:  enrondlr\\nPW:        bnaweb22\\n\\n\\n ...      0   \n",
       "1  \\nHi Chris,  \\n\\nTonight we are rolling out a ...      0   \n",
       "2  Rika r these new?\\n\\n -----Original Message---...      0   \n",
       "3  John/Gerald,\\n\\nWe are currently trading under...      0   \n",
       "4  Gerald and Stacy -\\n\\nAttached is a worksheet ...      0   \n",
       "\n",
       "                                                urls  \n",
       "0  ['http://web.bna.com', 'http://pubs.bna.com/ip...  \n",
       "1                                                 []  \n",
       "2  ['http://eastpower.dev.corp.enron.com/summary/...  \n",
       "3                                                 []  \n",
       "4                                                 []  "
      ]
     },
     "execution_count": 6,
     "metadata": {},
     "output_type": "execute_result"
    }
   ],
   "source": [
    "phish_file_path = os.path.join(dataset_folder, \"8339691/Nazario_5.csv\")\n",
    "\n",
    "df = pd.read_csv(phish_file_path)\n",
    "df.head(5)"
   ]
  },
  {
   "cell_type": "code",
   "execution_count": 7,
   "metadata": {},
   "outputs": [],
   "source": [
    "pr = PreProcessData()\n",
    "# pr"
   ]
  },
  {
   "cell_type": "code",
   "execution_count": 8,
   "metadata": {},
   "outputs": [
    {
     "data": {
      "text/html": [
       "<div>\n",
       "<style scoped>\n",
       "    .dataframe tbody tr th:only-of-type {\n",
       "        vertical-align: middle;\n",
       "    }\n",
       "\n",
       "    .dataframe tbody tr th {\n",
       "        vertical-align: top;\n",
       "    }\n",
       "\n",
       "    .dataframe thead th {\n",
       "        text-align: right;\n",
       "    }\n",
       "</style>\n",
       "<table border=\"1\" class=\"dataframe\">\n",
       "  <thead>\n",
       "    <tr style=\"text-align: right;\">\n",
       "      <th></th>\n",
       "      <th>sender</th>\n",
       "      <th>receiver</th>\n",
       "      <th>date</th>\n",
       "      <th>subject</th>\n",
       "      <th>body</th>\n",
       "      <th>label</th>\n",
       "      <th>urls</th>\n",
       "      <th>clean_text</th>\n",
       "    </tr>\n",
       "  </thead>\n",
       "  <tbody>\n",
       "    <tr>\n",
       "      <th>0</th>\n",
       "      <td>\"Hu, Sylvia\" &lt;Sylvia.Hu@ENRON.com&gt;</td>\n",
       "      <td>\"Acevedo, Felecia\" &lt;Felecia.Acevedo@ENRON.com&gt;...</td>\n",
       "      <td>Fri, 29 Jun 2001 08:36:09 -0500</td>\n",
       "      <td>FW: June 29 -- BNA, Inc. Daily Labor Report</td>\n",
       "      <td>User ID:  enrondlr\\nPW:        bnaweb22\\n\\n\\n ...</td>\n",
       "      <td>0</td>\n",
       "      <td>['http://web.bna.com', 'http://pubs.bna.com/ip...</td>\n",
       "      <td>user id  enrondlr pw        bnaweb    original...</td>\n",
       "    </tr>\n",
       "    <tr>\n",
       "      <th>1</th>\n",
       "      <td>\"Webb, Jay\" &lt;Jay.Webb@ENRON.com&gt;</td>\n",
       "      <td>\"Lambie, Chris\" &lt;Chris.Lambie@ENRON.com&gt;</td>\n",
       "      <td>Fri, 29 Jun 2001 09:37:04 -0500</td>\n",
       "      <td>NGX failover plan.</td>\n",
       "      <td>\\nHi Chris,  \\n\\nTonight we are rolling out a ...</td>\n",
       "      <td>0</td>\n",
       "      <td>[]</td>\n",
       "      <td>hi chris    tonight we are rolling out a new ...</td>\n",
       "    </tr>\n",
       "    <tr>\n",
       "      <th>2</th>\n",
       "      <td>\"Symms, Mark\" &lt;Mark.Symms@ENRON.com&gt;</td>\n",
       "      <td>\"Thomas, Paul D.\" &lt;Paul.D.Thomas@ENRON.com&gt;</td>\n",
       "      <td>Fri, 29 Jun 2001 08:39:30 -0500</td>\n",
       "      <td>RE: Intranet Site</td>\n",
       "      <td>Rika r these new?\\n\\n -----Original Message---...</td>\n",
       "      <td>0</td>\n",
       "      <td>['http://eastpower.dev.corp.enron.com/summary/...</td>\n",
       "      <td>rika r these new   original message from  thom...</td>\n",
       "    </tr>\n",
       "    <tr>\n",
       "      <th>3</th>\n",
       "      <td>\"Thorne, Judy\" &lt;Judy.Thorne@ENRON.com&gt;</td>\n",
       "      <td>\"Grass, John\" &lt;John.Grass@ENRON.com&gt;, \"Nemec, ...</td>\n",
       "      <td>Fri, 29 Jun 2001 10:35:17 -0500</td>\n",
       "      <td>FW: ENA Upstream Company information</td>\n",
       "      <td>John/Gerald,\\n\\nWe are currently trading under...</td>\n",
       "      <td>0</td>\n",
       "      <td>[]</td>\n",
       "      <td>johngerald  we are currently trading under gtc...</td>\n",
       "    </tr>\n",
       "    <tr>\n",
       "      <th>4</th>\n",
       "      <td>\"Williams, Jason R (Credit)\" &lt;Jason.R.Williams...</td>\n",
       "      <td>\"Nemec, Gerald\" &lt;Gerald.Nemec@ENRON.com&gt;, \"Dic...</td>\n",
       "      <td>Fri, 29 Jun 2001 10:40:02 -0500</td>\n",
       "      <td>New Master Physical</td>\n",
       "      <td>Gerald and Stacy -\\n\\nAttached is a worksheet ...</td>\n",
       "      <td>0</td>\n",
       "      <td>[]</td>\n",
       "      <td>gerald and stacy   attached is a worksheet for...</td>\n",
       "    </tr>\n",
       "  </tbody>\n",
       "</table>\n",
       "</div>"
      ],
      "text/plain": [
       "                                              sender  \\\n",
       "0                 \"Hu, Sylvia\" <Sylvia.Hu@ENRON.com>   \n",
       "1                   \"Webb, Jay\" <Jay.Webb@ENRON.com>   \n",
       "2               \"Symms, Mark\" <Mark.Symms@ENRON.com>   \n",
       "3             \"Thorne, Judy\" <Judy.Thorne@ENRON.com>   \n",
       "4  \"Williams, Jason R (Credit)\" <Jason.R.Williams...   \n",
       "\n",
       "                                            receiver  \\\n",
       "0  \"Acevedo, Felecia\" <Felecia.Acevedo@ENRON.com>...   \n",
       "1           \"Lambie, Chris\" <Chris.Lambie@ENRON.com>   \n",
       "2        \"Thomas, Paul D.\" <Paul.D.Thomas@ENRON.com>   \n",
       "3  \"Grass, John\" <John.Grass@ENRON.com>, \"Nemec, ...   \n",
       "4  \"Nemec, Gerald\" <Gerald.Nemec@ENRON.com>, \"Dic...   \n",
       "\n",
       "                              date  \\\n",
       "0  Fri, 29 Jun 2001 08:36:09 -0500   \n",
       "1  Fri, 29 Jun 2001 09:37:04 -0500   \n",
       "2  Fri, 29 Jun 2001 08:39:30 -0500   \n",
       "3  Fri, 29 Jun 2001 10:35:17 -0500   \n",
       "4  Fri, 29 Jun 2001 10:40:02 -0500   \n",
       "\n",
       "                                       subject  \\\n",
       "0  FW: June 29 -- BNA, Inc. Daily Labor Report   \n",
       "1                           NGX failover plan.   \n",
       "2                            RE: Intranet Site   \n",
       "3         FW: ENA Upstream Company information   \n",
       "4                          New Master Physical   \n",
       "\n",
       "                                                body  label  \\\n",
       "0  User ID:  enrondlr\\nPW:        bnaweb22\\n\\n\\n ...      0   \n",
       "1  \\nHi Chris,  \\n\\nTonight we are rolling out a ...      0   \n",
       "2  Rika r these new?\\n\\n -----Original Message---...      0   \n",
       "3  John/Gerald,\\n\\nWe are currently trading under...      0   \n",
       "4  Gerald and Stacy -\\n\\nAttached is a worksheet ...      0   \n",
       "\n",
       "                                                urls  \\\n",
       "0  ['http://web.bna.com', 'http://pubs.bna.com/ip...   \n",
       "1                                                 []   \n",
       "2  ['http://eastpower.dev.corp.enron.com/summary/...   \n",
       "3                                                 []   \n",
       "4                                                 []   \n",
       "\n",
       "                                          clean_text  \n",
       "0  user id  enrondlr pw        bnaweb    original...  \n",
       "1   hi chris    tonight we are rolling out a new ...  \n",
       "2  rika r these new   original message from  thom...  \n",
       "3  johngerald  we are currently trading under gtc...  \n",
       "4  gerald and stacy   attached is a worksheet for...  "
      ]
     },
     "execution_count": 8,
     "metadata": {},
     "output_type": "execute_result"
    }
   ],
   "source": [
    "corpus = df[\"body\"].tolist()\n",
    "cleaned_corpus = [pr.clean_text(doc) for doc in corpus]\n",
    "df[\"clean_text\"] = cleaned_corpus\n",
    "df.head(5)"
   ]
  },
  {
   "cell_type": "code",
   "execution_count": 9,
   "metadata": {},
   "outputs": [
    {
     "data": {
      "text/plain": [
       "3065"
      ]
     },
     "execution_count": 9,
     "metadata": {},
     "output_type": "execute_result"
    }
   ],
   "source": [
    "# Check the number of rows / samples in our dataset\n",
    "len(df)"
   ]
  },
  {
   "cell_type": "code",
   "execution_count": 10,
   "metadata": {},
   "outputs": [
    {
     "data": {
      "text/plain": [
       "label\n",
       "1    1565\n",
       "0    1500\n",
       "Name: count, dtype: int64"
      ]
     },
     "execution_count": 10,
     "metadata": {},
     "output_type": "execute_result"
    }
   ],
   "source": [
    "df[\"label\"].value_counts()"
   ]
  },
  {
   "cell_type": "code",
   "execution_count": 11,
   "metadata": {},
   "outputs": [],
   "source": [
    "# print(df[\"body\"].tolist())"
   ]
  },
  {
   "cell_type": "code",
   "execution_count": 12,
   "metadata": {},
   "outputs": [
    {
     "name": "stdout",
     "output_type": "stream",
     "text": [
      "('user id  enrondlr pw        bnaweb    original message from  bna highlights '\n",
      " 'bhighligbnacom sent thursday june    pm to bna highlights subject june   bna '\n",
      " 'inc daily labor report    daily labor report highlights  table of contents '\n",
      " 'june     issn   registered web subscribers can access the full text of these '\n",
      " 'articles by using the url link supplied  information about becoming a '\n",
      " 'subscriber or signing up for a free web trial is available at httpwebbnacom '\n",
      " 'or call bna customer relations at  mon  fri  am   pm et   highlights    dc '\n",
      " 'circuit overturns nlrb decision on workplace conduct policies  a california '\n",
      " 'firms two workplace policies barring abusive and threatening language and '\n",
      " 'restricting solicitation and distribution did not constitute unfair labor '\n",
      " 'practices the district of columbia circuit rules overturning a national '\n",
      " 'labor relations board decision adtranz abb daimlerbenz transp na inc v nlrb '\n",
      " 'dc cir no   the board held the workplace conduct policies of adtranz abb '\n",
      " 'daimlerbenz transportation na inc interfered with employees exercise of '\n",
      " 'their rights under the national labor relations act the board ordered that a '\n",
      " 'second election be held to determine whether adtranz employees in pittsburg '\n",
      " 'calif wanted to be represented by the machinists automotive trade district '\n",
      " 'lodge  of northern california  the appeals court finds it lacks jurisdiction '\n",
      " 'to consider adtranzs appeal of the order for a new election because it is '\n",
      " 'not a final order the court rejects the boards view that the ban on abusive '\n",
      " 'and threatening language was an unfair labor practice regardless of whether '\n",
      " 'it actually chilled employees exercise of their rights judge sentelle finds '\n",
      " 'the solicitationdistribution rule is legal because it only applies to '\n",
      " 'conduct during working time and in the work place and applies across the '\n",
      " 'board so it cannot be said to discriminate against unionization efforts or '\n",
      " 'other protected activity    page aa  text e  '\n",
      " 'httppubsbnacomipbnadlrnsfidaajkh  httppubsbnacomipbnadlrnsfidaajee   '\n",
      " 'workplace panic attacks render employee unqualified under ada  a former '\n",
      " 'customer service worker for a wisconsin power company fired after having '\n",
      " 'panic attacks at work that likely stemmed from a head injury was unable to '\n",
      " 'establish that her discharge was illegal under the americans with '\n",
      " 'disabilities act the seventh circuit rules emerson v northern states power '\n",
      " 'co  th cir  no     loretta m emerson failed to show she was a qualified '\n",
      " 'individual under the act given that her anxiety attacks could interfere with '\n",
      " 'her ability to answer customer phone calls about gas or electricity '\n",
      " 'emergencies judge bauer finds affirming summary judgment to northern states '\n",
      " 'power co bauer also finds emerson posed a direct threat to her employer '\n",
      " 'because her job required prompt accurate handling of emergencies such as gas '\n",
      " 'leaks and downed power lines that could pose significant danger to the '\n",
      " 'public    page a  httppubsbnacomipbnadlrnsfidaajqp   uan delegates vote '\n",
      " 'unanimously to affiliate with aflcio  delegates to the national labor '\n",
      " 'assembly of the united american nurses the labor arm of the american nurses '\n",
      " 'association unanimously vote to affiliate with the aflcio if all goes as '\n",
      " 'planned the affiliation of the member union will become effective july  '\n",
      " 'however it appears one more hurdle may need to be cleared before the '\n",
      " 'affiliation which has been in the works for more than a year becomes a '\n",
      " 'reality  the ana house of delegates is scheduled to vote june  on a bylaw '\n",
      " 'change that would require any state nurses association that engages in '\n",
      " 'collective bargaining to be a member of uan within four years this was a '\n",
      " 'condition of the aflcio granting a charter it is unclear whether the bylaw '\n",
      " 'change will pass and if it does not what happens to the affiliation '\n",
      " 'agreement    page b  httppubsbnacomipbnadlrnsfidaajjf   new york city partly '\n",
      " 'immune from bias law court finds  in a case of first impression a federal '\n",
      " 'trial court overturns a jurys  million sexual harassment punitive damages '\n",
      " 'award against new york city because it did not explicitly waive sovereign '\n",
      " 'immunity from punitive damages under the citys human rights ordinance katt v '\n",
      " 'new york city sdny no  civ  gel  rejecting the defendants other postverdict '\n",
      " 'motions however judge lynch of the us district court for the southern '\n",
      " 'district of new york upholds the jurys award of  in compensatory damages  '\n",
      " 'the court rejects the citys affirmative defense that plaintiff alli katt '\n",
      " 'failed to take advantage of the new york police departments complaint '\n",
      " 'process finding that she was intimidated into not doing so because of '\n",
      " 'explicit and implicit pressure the court also rejects the citys lateraised '\n",
      " 'challenge to the timeliness of the complaint    page a  '\n",
      " 'httppubsbnacomipbnadlrnsfidaajvg   hoffa leedham nominated as candidates for '\n",
      " 'teamsters president  in a noisy but orderly session of the international '\n",
      " 'brotherhood of teamsters convention june  incumbent president james p hoffa '\n",
      " 'and challenger tom leedham both are nominated for the unions top office  '\n",
      " 'also nominated are current ibt secretarytreasurer tom keegel and leedham '\n",
      " 'runningmate tom gilmartin the head of ibt local  in connecticut delegate '\n",
      " 'voting will occur late june  to determine if the candidates received the '\n",
      " 'requisite  percent support for their names to be placed on the ballot for '\n",
      " 'the fall election among the unions  million members  that hoffa will '\n",
      " 'receive  percent of the delegates votes is a foregone conclusion given his '\n",
      " 'overwhelming support among the more than  delegates voice votes on various '\n",
      " 'resolutions and constitutional amendments appear to show that leedham has '\n",
      " 'the support of only a few hundred delegates in his second challenge to hoffa '\n",
      " 'for the union presidency however leedham and members of his campaign appear '\n",
      " 'confident he will get the votes necessary to be placed on the ballot other '\n",
      " 'members of leedhams slate earlier received more votes than necessary to be '\n",
      " 'placed on the ballot    page c  httppubsbnacomipbnadlrnsfidaajgz   osha '\n",
      " 'readies mandatory employer survey for distribution  the week of july  will '\n",
      " 'signal the launch of the occupational safety and health administrations '\n",
      " 'annual mandatory survey of more than  employers nationwide to gather injury '\n",
      " 'and illness data to better target highhazard employers the agency however '\n",
      " 'will not include construction employers in the upcoming survey  the  survey '\n",
      " 'program improves oshas ability to identify and target our  efforts on the '\n",
      " 'more hazardous workplaces acting osha administrator r davis layne says the '\n",
      " 'survey requests calendar year  data osha inspections based on the  data will '\n",
      " 'not be launched until january or february of  the osha spokesman says  '\n",
      " 'employers will be asked to supply figures for average employment hours '\n",
      " 'worked and a summary of the jobrelated injuries and illnesses that occurred '\n",
      " 'at their work sites in  the agency says  the surveys must be returned even '\n",
      " 'if a surveyed employer recorded no occupational injuries or illnesses for  '\n",
      " 'the agency says    page a  httppubsbnacomipbnadlrnsfidaajhx     todays '\n",
      " 'events   gdp second revision of gross domestic product for the first quarter '\n",
      " 'released  am commerce department    also in the news    layoffs reflecting '\n",
      " 'the weakened labor market both the number of mass layoff events and the '\n",
      " 'number of workers involved were significantly higher during the first five '\n",
      " 'months of this year than in the same period of  the layoff events reported '\n",
      " 'for may alone involved a total of  workers    page d  '\n",
      " 'httppubsbnacomipbnadlrnsfidaajjp  unemployment insurance new ui claims filed '\n",
      " 'with state agencies fell for the third consecutive week down  to a '\n",
      " 'seasonally adjusted total of  for the week ended june     page d  '\n",
      " 'httppubsbnacomipbnadlrnsfidaajhh  health care employees several factors are '\n",
      " 'combining to constrain the current supply of nurses in the united states a '\n",
      " 'key factor being job dissatisfaction according to the general accounting '\n",
      " 'office    page a  httppubsbnacomipbnadlrnsfidaajcp  entertainment members of '\n",
      " 'six unions representing  workers at walt disney world in orlando fla are '\n",
      " 'scheduled to vote july  on a new threeyear contract with the walt disney '\n",
      " 'world co    page a  httppubsbnacomipbnadlrnsfidaajmf     text   unfair labor '\n",
      " 'practices district of columbia circuit decision in adtranz abb daimlerbenz '\n",
      " 'transportation na inc v nlrb    page e  httppubsbnacomipbnadlrnsfidaajee     '\n",
      " 'table of contents   leading the news  unfair labor practices    overturning '\n",
      " 'nlrb dc circuit finds california firms    workplace policies barring abusive '\n",
      " 'and threatening    language and restricting solicitation and distribution    '\n",
      " 'did not constitute unfair labor practices    page    aa  text e    '\n",
      " 'httppubsbnacomipbnadlrnsfidaajkh     httppubsbnacomipbnadlrnsfidaajee     '\n",
      " 'news   disabilities    seventh circuit rules former customer service worker '\n",
      " 'at    wisconsin power company fired after having panic attacks    at work '\n",
      " 'likely related to head injury failed to    establish she was qualified '\n",
      " 'individual under ada       page a    httppubsbnacomipbnadlrnsfidaajqp  '\n",
      " 'discrimination    house judiciary committee expects to vote on bill hr     '\n",
      " 'that would allow religious organizations to compete    for federal grants '\n",
      " 'including proposed amendment from    panel chairman that would narrow '\n",
      " 'ability of such    organizations to discriminate in employment    page    '\n",
      " 'a    httppubsbnacomipbnadlrnsfidaajmq  economic outlook    ucla anderson '\n",
      " 'forecast finds california facing most    troublesome period since early s '\n",
      " 'predicts sharply    lower growth through at least     page a    '\n",
      " 'httppubsbnacomipbnadlrnsfidaajmv  entertainment    members of six unions '\n",
      " 'representing  workers to vote    july  on new threeyear contract with walt '\n",
      " 'disney world    co    page a    httppubsbnacomipbnadlrnsfidaajmf  health '\n",
      " 'care    senate democrats prevail on amendment challenges to    patients bill '\n",
      " 'of rights legislation but prospects for    wrapping up work on bill by close '\n",
      " 'of senate business for    night appear dim    page a    '\n",
      " 'httppubsbnacomipbnadlrnsfidaajvu  health care employees    gao cites job '\n",
      " 'dissatisfaction as top among several    factors combining to constrain '\n",
      " 'current supply of nurses    in united states    page a    '\n",
      " 'httppubsbnacomipbnadlrnsfidaajcp  helpwanted ads    conference board finds '\n",
      " 'demand for labor declined in may    as helpwanted advertising index fell by  '\n",
      " 'percentage    points from previous month to  percent    page a    '\n",
      " 'httppubsbnacomipbnadlrnsfidaajjt  safety  health    official says labor '\n",
      " 'department will go forward with    clinton administration rule changing the '\n",
      " 'way some     million worksites are required to record employee    injuries '\n",
      " 'and illnesses    page a    httppubsbnacomipbnadlrnsfidaajrg     osha '\n",
      " 'announces july  launch of annual mandatory survey    gathering injury and '\n",
      " 'illness data from more than     employers to better target highhazard '\n",
      " 'employers       page a    httppubsbnacomipbnadlrnsfidaajhx     study finds '\n",
      " 'consequences of feeling overworked can affect    employees job performance '\n",
      " 'and lead to poorer health       page a    httppubsbnacomipbnadlrnsfidaajnr  '\n",
      " 'sex discrimination    seventh circuit affirms grant of summary judgment '\n",
      " 'to    employer of female manager passed over for promotion and    '\n",
      " 'transferred to another facility finding that she failed    to establish '\n",
      " 'similarly situated male was treated more    favorably    page a    '\n",
      " 'httppubsbnacomipbnadlrnsfidaajgq  sexual harassment    federal judge '\n",
      " 'overturns jurys award of  million in    punitive damages against new york '\n",
      " 'city because city did    not explicitly waive sovereign immunity under '\n",
      " 'human    rights ordinance    page a    httppubsbnacomipbnadlrnsfidaajvg  '\n",
      " 'steel    geneva steel and united steelworkers reach tentative    oneyear '\n",
      " 'contract covering  workers at companys    vineyard utah mill    page a    '\n",
      " 'httppubsbnacomipbnadlrnsfidaajgh  trade    in letter to president bush '\n",
      " 'twentyfive house democrats    denounce direction house gop leadership and    '\n",
      " 'administration are taking on trade    page a    '\n",
      " 'httppubsbnacomipbnadlrnsfidaajqj  workforce reductions    john deere  co '\n",
      " 'announces plans to cut salaried    workforce in united states by  percent '\n",
      " 'or  jobs       page a    httppubsbnacomipbnadlrnsfidaajdv     special '\n",
      " 'report   health care employees    delegates to second annual national labor '\n",
      " 'assembly of    united american nurses labor arm of american nurses    '\n",
      " 'association vote unanimously to affiliate with aflcio       page b    '\n",
      " 'httppubsbnacomipbnadlrnsfidaajjf     convention report   teamsters    ibt '\n",
      " 'delegates nominate incumbent president james p hoffa    and challenger tom '\n",
      " 'leedham for unions top office in    noisy but orderly session    page c    '\n",
      " 'httppubsbnacomipbnadlrnsfidaajgz     economic news   layoffs    labor '\n",
      " 'departments bureau of labor statistics reports    both number of mass layoff '\n",
      " 'events and number of workers    involved were significantly higher during '\n",
      " 'first five    months of this year than during same period last year    '\n",
      " 'reflecting weakened labor market    page d    '\n",
      " 'httppubsbnacomipbnadlrnsfidaajjp  unemployment insurance    labor '\n",
      " 'departments employment and training administration    reports new '\n",
      " 'unemployment insurance claims filed with    state agencies fell for third '\n",
      " 'consecutive week down     to seasonally adjusted total of  for week    ended '\n",
      " 'june     page d    httppubsbnacomipbnadlrnsfidaajhh     text   unfair labor '\n",
      " 'practices    district of columbia circuit decision in adtranz abb    '\n",
      " 'daimlerbenz transportation na inc v nlrb    page    e    '\n",
      " 'httppubsbnacomipbnadlrnsfidaajee     table of cases   adtranz abb '\n",
      " 'daimlerbenz transp na inc v nlrb dc cir    page aa  text e    '\n",
      " 'httppubsbnacomipbnadlrnsfidaajkh     httppubsbnacomipbnadlrnsfidaajee  '\n",
      " 'emerson v northern states power co th cir    page a    '\n",
      " 'httppubsbnacomipbnadlrnsfidaajqp  hoffmandombrowski v arlington intl '\n",
      " 'racecourse inc th cir    page a    httppubsbnacomipbnadlrnsfidaajgq  katt v '\n",
      " 'new york city sdny    page a    httppubsbnacomipbnadlrnsfidaajvg         '\n",
      " 'daily labor report issn  highlights are    published daily by the bureau of '\n",
      " 'national affairs inc     th st nw washington dc      for account information '\n",
      " 'and changes contact     mf  am pm et     to request retransmission or to '\n",
      " 'order a copy of the    summarized article contact  or email    '\n",
      " 'bnaplusbnacom     for copyright guidelines go to    '\n",
      " 'httpwwwbnacomcorpcopyright     copyright c  by the bureau of national '\n",
      " 'affairs    inc  washington dc    use of this service is    subject to the '\n",
      " 'terms and conditions of the license    agreement with bna  unauthorized '\n",
      " 'access or distribution    is prohibited   ')\n"
     ]
    }
   ],
   "source": [
    "# uncomment this to can see one of the cleaned emails\n",
    "pprint(df[\"clean_text\"].tolist()[:1][0])"
   ]
  },
  {
   "cell_type": "markdown",
   "metadata": {},
   "source": [
    "# Part II: Feature Extraction: Begginer-level\n",
    "\n",
    "- In this part, we will use, CountVectorizer, a very basic feature extraction technique for Natural Language Processing (NLP) tasks.\n"
   ]
  },
  {
   "cell_type": "code",
   "execution_count": 13,
   "metadata": {},
   "outputs": [],
   "source": [
    "# Spacy tokenizer\n",
    "# Load Spacy model\n",
    "nlp = spacy.load(\"en_core_web_sm\")\n",
    "\n",
    "\n",
    "def spacy_tokenizer(sentence):\n",
    "    return [word.lemma_ for word in nlp(sentence)]"
   ]
  },
  {
   "cell_type": "code",
   "execution_count": 14,
   "metadata": {},
   "outputs": [
    {
     "name": "stdout",
     "output_type": "stream",
     "text": [
      "Vocabulary:  ['also' 'are' 'attack' 'computer' 'emails' 'for' 'hacked' 'his'\n",
      " 'important' 'is' 'noticed' 'phishing' 'security' 'that' 'used' 'was'\n",
      " 'why']\n",
      "Encoded Document is:\n",
      " [[0 0 0 1 0 0 1 1 0 0 0 0 0 0 0 1 0]\n",
      " [2 0 0 0 0 0 0 0 1 1 1 0 1 1 0 0 0]\n",
      " [0 1 1 0 1 1 0 0 0 0 0 1 0 0 1 0 1]]\n"
     ]
    }
   ],
   "source": [
    "# A simple corpus (NLP data) with three sentences / texts to show how CountVectorizer works. It counts the number of occurances of a word in a setence or entry (row).\n",
    "\n",
    "corpus = [\n",
    "    \"His computer was hacked.\",\n",
    "    \"also noticed that security is also important\",\n",
    "    \"why are emails used for phishing attack?\",\n",
    "]\n",
    "\n",
    "# Create a Vectorizer Object\n",
    "vectorizer = CountVectorizer(lowercase=True)\n",
    "\n",
    "# Learn the vocabulary dictionary and return document-term matrix.\n",
    "X = vectorizer.fit_transform(corpus)\n",
    "\n",
    "# Check the fitted vocabulary\n",
    "print(\"Vocabulary: \", vectorizer.get_feature_names_out())\n",
    "\n",
    "# Check the vectorized data\n",
    "print(\"Encoded Document is:\\n\", X.toarray())"
   ]
  },
  {
   "cell_type": "code",
   "execution_count": null,
   "metadata": {},
   "outputs": [],
   "source": []
  },
  {
   "cell_type": "code",
   "execution_count": 20,
   "metadata": {},
   "outputs": [
    {
     "name": "stdout",
     "output_type": "stream",
     "text": [
      "Before conversion, X was  <class 'scipy.sparse._csr.csr_matrix'>\n",
      "After conversion, X is =  <class 'numpy.ndarray'>\n"
     ]
    }
   ],
   "source": [
    "import warnings\n",
    "\n",
    "warnings.filterwarnings(\"ignore\")\n",
    "# Load English tokenizer, tagger, parser, NER and word vectors\n",
    "nlp = spacy.load(\"en_core_web_sm\")\n",
    "nlp.max_length = 3642984 + 1\n",
    "# Get the list of stop words\n",
    "stop_words = nlp.Defaults.stop_words\n",
    "\n",
    "# Print the stop words\n",
    "# print(stop_words)\n",
    "\n",
    "# Now, simlar to the simple three documents-based feature, we will extract features using CountVectorizer from our phishing email dataset.\n",
    "# stop_words = list(stopwords.words(\"english\"))  # stop words for English\n",
    "# Create a Vectorizer Object.\n",
    "vectorizer = CountVectorizer(\n",
    "    lowercase=True,\n",
    "    stop_words=list(stop_words),\n",
    "    tokenizer=spacy_tokenizer,\n",
    "    min_df=20,\n",
    ")\n",
    "\n",
    "# get all the cleaned emails\n",
    "email_corpus = df[\"clean_text\"].tolist()\n",
    "\n",
    "# Learn the vocabulary dictionary and return document-term matrix.\n",
    "X = vectorizer.fit_transform(email_corpus)\n",
    "\n",
    "# convert X from scipy sparse matrix to numpy matrix\n",
    "print(\"Before conversion, X was \", type(X))\n",
    "\n",
    "X = X.toarray()\n",
    "print(\"After conversion, X is = \", type(X))  # now it is a numpy array"
   ]
  },
  {
   "cell_type": "code",
   "execution_count": 21,
   "metadata": {},
   "outputs": [
    {
     "data": {
      "text/plain": [
       "3642984"
      ]
     },
     "execution_count": 21,
     "metadata": {},
     "output_type": "execute_result"
    }
   ],
   "source": [
    "# get all the cleaned emails\n",
    "email_corpus = df[\"clean_text\"].tolist()\n",
    "l = []\n",
    "for i, mail in enumerate(email_corpus):\n",
    "    # print(i, len(mail))\n",
    "    l.append(len(mail))\n",
    "\n",
    "max(l)"
   ]
  },
  {
   "cell_type": "code",
   "execution_count": 22,
   "metadata": {},
   "outputs": [
    {
     "data": {
      "text/plain": [
       "(3065, 1675)"
      ]
     },
     "execution_count": 22,
     "metadata": {},
     "output_type": "execute_result"
    }
   ],
   "source": [
    "X.shape  # X has 3065 rows and 3781 (vocabularies or features)"
   ]
  },
  {
   "cell_type": "code",
   "execution_count": 23,
   "metadata": {},
   "outputs": [
    {
     "data": {
      "text/plain": [
       "7602"
      ]
     },
     "execution_count": 23,
     "metadata": {},
     "output_type": "execute_result"
    }
   ],
   "source": [
    "X.max()"
   ]
  },
  {
   "cell_type": "code",
   "execution_count": 24,
   "metadata": {},
   "outputs": [
    {
     "data": {
      "text/plain": [
       "label\n",
       "1    1565\n",
       "0    1500\n",
       "Name: count, dtype: int64"
      ]
     },
     "execution_count": 24,
     "metadata": {},
     "output_type": "execute_result"
    }
   ],
   "source": [
    "# read the labels of the emails: if label = 0, the email was benign, if label = 1, the email is phishy / malicious email\n",
    "\n",
    "y = df[\"label\"].astype(np.int32)\n",
    "\n",
    "# check the number of benign and malicious emails\n",
    "y.value_counts()  # we can see that we have 1565 malicious and 1500 normal emails"
   ]
  },
  {
   "cell_type": "code",
   "execution_count": 25,
   "metadata": {},
   "outputs": [],
   "source": [
    "# split our data into training and testing sets\n",
    "\n",
    "X_train, X_test, y_train, y_test = train_test_split(\n",
    "    X, y, test_size=0.3, stratify=y, random_state=42\n",
    ")"
   ]
  },
  {
   "cell_type": "code",
   "execution_count": 26,
   "metadata": {},
   "outputs": [],
   "source": [
    "# normalize our data between 0 and 1\n",
    "# Min-Max Scaler\n",
    "min_max_scaler = MinMaxScaler(feature_range=(0, 1))\n",
    "X_train_scaled = min_max_scaler.fit_transform(X_train)\n",
    "X_test_scaled = min_max_scaler.transform(X_test)"
   ]
  },
  {
   "cell_type": "code",
   "execution_count": 27,
   "metadata": {},
   "outputs": [
    {
     "name": "stdout",
     "output_type": "stream",
     "text": [
      "[' ' '  ' '   ' ... 'youusaa' 'zone' 'â']\n"
     ]
    }
   ],
   "source": [
    "# Check the fitted vocabulary\n",
    "vocabularies = vectorizer.get_feature_names_out()\n",
    "print(vocabularies)"
   ]
  },
  {
   "cell_type": "code",
   "execution_count": 28,
   "metadata": {},
   "outputs": [
    {
     "data": {
      "text/plain": [
       "1675"
      ]
     },
     "execution_count": 28,
     "metadata": {},
     "output_type": "execute_result"
    }
   ],
   "source": [
    "# check the total number of vocabularies or unique features we have in our data\n",
    "len(vocabularies)"
   ]
  },
  {
   "cell_type": "code",
   "execution_count": 29,
   "metadata": {},
   "outputs": [],
   "source": [
    "# now, we will create a pytorch sensor for training and testing dataset\n",
    "# This is useful when we have huge data with over 1 Million rows, and cannot fit our computer's RAM. The data loader fetches it based on the batch_size specified.\n",
    "\n",
    "train_dataset = TensorDataset(\n",
    "    torch.from_numpy(X_train_scaled), torch.from_numpy(y_train.values).long()\n",
    ")\n",
    "test_dataset = TensorDataset(\n",
    "    torch.from_numpy(X_test_scaled), torch.from_numpy(y_test.values).long()\n",
    ")\n",
    "\n",
    "# create data loaders\n",
    "batch_size = 256\n",
    "train_loader = DataLoader(train_dataset, batch_size=batch_size, shuffle=True)\n",
    "test_loader = DataLoader(test_dataset, batch_size=batch_size, shuffle=False)"
   ]
  },
  {
   "cell_type": "code",
   "execution_count": 30,
   "metadata": {},
   "outputs": [
    {
     "data": {
      "text/plain": [
       "body    0\n",
       "dtype: int64"
      ]
     },
     "execution_count": 30,
     "metadata": {},
     "output_type": "execute_result"
    }
   ],
   "source": [
    "# check if body of the email is empty or if label is empty\n",
    "df[[\"body\"]].isna().sum()"
   ]
  },
  {
   "cell_type": "code",
   "execution_count": 31,
   "metadata": {},
   "outputs": [
    {
     "data": {
      "text/plain": [
       "0"
      ]
     },
     "execution_count": 31,
     "metadata": {},
     "output_type": "execute_result"
    }
   ],
   "source": [
    "df[\"label\"].isna().sum()"
   ]
  },
  {
   "cell_type": "markdown",
   "metadata": {},
   "source": []
  },
  {
   "attachments": {
    "image-2.png": {
     "image/png": "[encoded data removed]"
    },
    "image.png": {
     "image/png": "[encoded data removed]"
    }
   },
   "cell_type": "markdown",
   "metadata": {},
   "source": [
    "# Part III: PyTorch Model Implementation (begginer level)\n",
    "\n",
    "- In this part, we will use, Single Layer Perceptron to perform binary clasification of emails (i.e., classify emails as benign or malicious / phishing). Embedding a widely used feature extraction technique for Natural Language Processing (NLP) tasks.\n",
    "\n",
    "![image.png](attachment:image.png) or ![image-2.png](attachment:image-2.png)\n",
    "\n",
    "Single-Layer Perceptron architecture: figure is take from [javatpoint](https://www.javatpoint.com/pytorch-perceptron)\n"
   ]
  },
  {
   "cell_type": "code",
   "execution_count": 32,
   "metadata": {},
   "outputs": [],
   "source": [
    "# look the implementation of a simple pytorch model / classifier in models.py file\n",
    "\n",
    "from models import Perceptron"
   ]
  },
  {
   "cell_type": "code",
   "execution_count": 33,
   "metadata": {},
   "outputs": [
    {
     "name": "stdout",
     "output_type": "stream",
     "text": [
      "Perceptron(\n",
      "  (fc): Linear(in_features=1675, out_features=1, bias=True)\n",
      "  (sigmoid): Sigmoid()\n",
      ")\n"
     ]
    }
   ],
   "source": [
    "# set the hyperparameters\n",
    "\n",
    "input_size = X.shape[1]  # number of features/ vocabulary in our data, X\n",
    "output_size = 1\n",
    "\n",
    "classifier = Perceptron(input_size, output_size)\n",
    "\n",
    "# create an optimizer for training classifier\n",
    "optimizer = optim.Adam(classifier.parameters(), lr=1e-3)\n",
    "\n",
    "# create a loss function to calculate the loss (error) of our classifier\n",
    "loss_fn = nn.BCELoss()\n",
    "\n",
    "print(classifier)"
   ]
  },
  {
   "cell_type": "markdown",
   "metadata": {},
   "source": [
    "```\n",
    "Note: As you can see, our classifier has in_features = 2010, and out_features = 1, followed by sigmoid function. The sigmoid function squashes the output value between 0 and 1. Now, if the output of the sigmoid is close to 0, we say the email is normal. If the output of the sigmoid is close to 1, we say that the email is malicious / phishy.\n",
    "```\n"
   ]
  },
  {
   "cell_type": "code",
   "execution_count": 34,
   "metadata": {},
   "outputs": [
    {
     "name": "stdout",
     "output_type": "stream",
     "text": [
      "Epoch: 1 / 100\n"
     ]
    },
    {
     "name": "stderr",
     "output_type": "stream",
     "text": [
      "100%|██████████| 9/9 [00:00<00:00, 133.75it/s]\n"
     ]
    },
    {
     "name": "stdout",
     "output_type": "stream",
     "text": [
      "Train Loss = 0.6836\n",
      "Epoch: 2 / 100\n"
     ]
    },
    {
     "name": "stderr",
     "output_type": "stream",
     "text": [
      "100%|██████████| 9/9 [00:00<00:00, 485.59it/s]\n"
     ]
    },
    {
     "name": "stdout",
     "output_type": "stream",
     "text": [
      "Train Loss = 0.6669\n",
      "Epoch: 3 / 100\n"
     ]
    },
    {
     "name": "stderr",
     "output_type": "stream",
     "text": [
      "100%|██████████| 9/9 [00:00<00:00, 500.55it/s]\n"
     ]
    },
    {
     "name": "stdout",
     "output_type": "stream",
     "text": [
      "Train Loss = 0.6530\n",
      "Epoch: 4 / 100\n"
     ]
    },
    {
     "name": "stderr",
     "output_type": "stream",
     "text": [
      "100%|██████████| 9/9 [00:00<00:00, 490.49it/s]\n"
     ]
    },
    {
     "name": "stdout",
     "output_type": "stream",
     "text": [
      "Train Loss = 0.6387\n",
      "Epoch: 5 / 100\n"
     ]
    },
    {
     "name": "stderr",
     "output_type": "stream",
     "text": [
      "100%|██████████| 9/9 [00:00<00:00, 477.40it/s]\n"
     ]
    },
    {
     "name": "stdout",
     "output_type": "stream",
     "text": [
      "Train Loss = 0.6263\n",
      "Epoch: 6 / 100\n"
     ]
    },
    {
     "name": "stderr",
     "output_type": "stream",
     "text": [
      "100%|██████████| 9/9 [00:00<00:00, 523.16it/s]\n"
     ]
    },
    {
     "name": "stdout",
     "output_type": "stream",
     "text": [
      "Train Loss = 0.6147\n",
      "Epoch: 7 / 100\n"
     ]
    },
    {
     "name": "stderr",
     "output_type": "stream",
     "text": [
      "100%|██████████| 9/9 [00:00<00:00, 532.70it/s]\n"
     ]
    },
    {
     "name": "stdout",
     "output_type": "stream",
     "text": [
      "Train Loss = 0.6040\n",
      "Epoch: 8 / 100\n"
     ]
    },
    {
     "name": "stderr",
     "output_type": "stream",
     "text": [
      "100%|██████████| 9/9 [00:00<00:00, 524.59it/s]\n"
     ]
    },
    {
     "name": "stdout",
     "output_type": "stream",
     "text": [
      "Train Loss = 0.5921\n",
      "Epoch: 9 / 100\n"
     ]
    },
    {
     "name": "stderr",
     "output_type": "stream",
     "text": [
      "100%|██████████| 9/9 [00:00<00:00, 511.24it/s]\n"
     ]
    },
    {
     "name": "stdout",
     "output_type": "stream",
     "text": [
      "Train Loss = 0.5845\n",
      "Epoch: 10 / 100\n"
     ]
    },
    {
     "name": "stderr",
     "output_type": "stream",
     "text": [
      "100%|██████████| 9/9 [00:00<00:00, 552.58it/s]\n"
     ]
    },
    {
     "name": "stdout",
     "output_type": "stream",
     "text": [
      "Train Loss = 0.5737\n",
      "Epoch: 11 / 100\n"
     ]
    },
    {
     "name": "stderr",
     "output_type": "stream",
     "text": [
      "100%|██████████| 9/9 [00:00<00:00, 465.67it/s]\n"
     ]
    },
    {
     "name": "stdout",
     "output_type": "stream",
     "text": [
      "Train Loss = 0.5636\n",
      "Epoch: 12 / 100\n"
     ]
    },
    {
     "name": "stderr",
     "output_type": "stream",
     "text": [
      "100%|██████████| 9/9 [00:00<00:00, 510.78it/s]\n"
     ]
    },
    {
     "name": "stdout",
     "output_type": "stream",
     "text": [
      "Train Loss = 0.5560\n",
      "Epoch: 13 / 100\n"
     ]
    },
    {
     "name": "stderr",
     "output_type": "stream",
     "text": [
      "100%|██████████| 9/9 [00:00<00:00, 441.74it/s]\n"
     ]
    },
    {
     "name": "stdout",
     "output_type": "stream",
     "text": [
      "Train Loss = 0.5483\n",
      "Epoch: 14 / 100\n"
     ]
    },
    {
     "name": "stderr",
     "output_type": "stream",
     "text": [
      "100%|██████████| 9/9 [00:00<00:00, 497.51it/s]\n"
     ]
    },
    {
     "name": "stdout",
     "output_type": "stream",
     "text": [
      "Train Loss = 0.5399\n",
      "Epoch: 15 / 100\n"
     ]
    },
    {
     "name": "stderr",
     "output_type": "stream",
     "text": [
      "100%|██████████| 9/9 [00:00<00:00, 531.13it/s]\n"
     ]
    },
    {
     "name": "stdout",
     "output_type": "stream",
     "text": [
      "Train Loss = 0.5318\n",
      "Epoch: 16 / 100\n"
     ]
    },
    {
     "name": "stderr",
     "output_type": "stream",
     "text": [
      "100%|██████████| 9/9 [00:00<00:00, 479.34it/s]\n"
     ]
    },
    {
     "name": "stdout",
     "output_type": "stream",
     "text": [
      "Train Loss = 0.5253\n",
      "Epoch: 17 / 100\n"
     ]
    },
    {
     "name": "stderr",
     "output_type": "stream",
     "text": [
      "100%|██████████| 9/9 [00:00<00:00, 529.60it/s]\n"
     ]
    },
    {
     "name": "stdout",
     "output_type": "stream",
     "text": [
      "Train Loss = 0.5207\n",
      "Epoch: 18 / 100\n"
     ]
    },
    {
     "name": "stderr",
     "output_type": "stream",
     "text": [
      "100%|██████████| 9/9 [00:00<00:00, 571.47it/s]\n"
     ]
    },
    {
     "name": "stdout",
     "output_type": "stream",
     "text": [
      "Train Loss = 0.5105\n",
      "Epoch: 19 / 100\n"
     ]
    },
    {
     "name": "stderr",
     "output_type": "stream",
     "text": [
      "100%|██████████| 9/9 [00:00<00:00, 593.44it/s]\n"
     ]
    },
    {
     "name": "stdout",
     "output_type": "stream",
     "text": [
      "Train Loss = 0.5058\n",
      "Epoch: 20 / 100\n"
     ]
    },
    {
     "name": "stderr",
     "output_type": "stream",
     "text": [
      "100%|██████████| 9/9 [00:00<00:00, 486.33it/s]\n"
     ]
    },
    {
     "name": "stdout",
     "output_type": "stream",
     "text": [
      "Train Loss = 0.5005\n",
      "Epoch: 21 / 100\n"
     ]
    },
    {
     "name": "stderr",
     "output_type": "stream",
     "text": [
      "100%|██████████| 9/9 [00:00<00:00, 547.34it/s]\n"
     ]
    },
    {
     "name": "stdout",
     "output_type": "stream",
     "text": [
      "Train Loss = 0.4931\n",
      "Epoch: 22 / 100\n"
     ]
    },
    {
     "name": "stderr",
     "output_type": "stream",
     "text": [
      "100%|██████████| 9/9 [00:00<00:00, 437.88it/s]\n"
     ]
    },
    {
     "name": "stdout",
     "output_type": "stream",
     "text": [
      "Train Loss = 0.4896\n",
      "Epoch: 23 / 100\n"
     ]
    },
    {
     "name": "stderr",
     "output_type": "stream",
     "text": [
      "100%|██████████| 9/9 [00:00<00:00, 529.23it/s]\n"
     ]
    },
    {
     "name": "stdout",
     "output_type": "stream",
     "text": [
      "Train Loss = 0.4833\n",
      "Epoch: 24 / 100\n"
     ]
    },
    {
     "name": "stderr",
     "output_type": "stream",
     "text": [
      "100%|██████████| 9/9 [00:00<00:00, 423.19it/s]\n"
     ]
    },
    {
     "name": "stdout",
     "output_type": "stream",
     "text": [
      "Train Loss = 0.4781\n",
      "Epoch: 25 / 100\n"
     ]
    },
    {
     "name": "stderr",
     "output_type": "stream",
     "text": [
      "100%|██████████| 9/9 [00:00<00:00, 377.14it/s]\n"
     ]
    },
    {
     "name": "stdout",
     "output_type": "stream",
     "text": [
      "Train Loss = 0.4697\n",
      "Epoch: 26 / 100\n"
     ]
    },
    {
     "name": "stderr",
     "output_type": "stream",
     "text": [
      "100%|██████████| 9/9 [00:00<00:00, 460.03it/s]\n"
     ]
    },
    {
     "name": "stdout",
     "output_type": "stream",
     "text": [
      "Train Loss = 0.4652\n",
      "Epoch: 27 / 100\n"
     ]
    },
    {
     "name": "stderr",
     "output_type": "stream",
     "text": [
      "100%|██████████| 9/9 [00:00<00:00, 490.71it/s]\n"
     ]
    },
    {
     "name": "stdout",
     "output_type": "stream",
     "text": [
      "Train Loss = 0.4623\n",
      "Epoch: 28 / 100\n"
     ]
    },
    {
     "name": "stderr",
     "output_type": "stream",
     "text": [
      "100%|██████████| 9/9 [00:00<00:00, 531.66it/s]\n"
     ]
    },
    {
     "name": "stdout",
     "output_type": "stream",
     "text": [
      "Train Loss = 0.4578\n",
      "Epoch: 29 / 100\n"
     ]
    },
    {
     "name": "stderr",
     "output_type": "stream",
     "text": [
      "100%|██████████| 9/9 [00:00<00:00, 553.40it/s]\n"
     ]
    },
    {
     "name": "stdout",
     "output_type": "stream",
     "text": [
      "Train Loss = 0.4499\n",
      "Epoch: 30 / 100\n"
     ]
    },
    {
     "name": "stderr",
     "output_type": "stream",
     "text": [
      "100%|██████████| 9/9 [00:00<00:00, 487.80it/s]\n"
     ]
    },
    {
     "name": "stdout",
     "output_type": "stream",
     "text": [
      "Train Loss = 0.4478\n",
      "Epoch: 31 / 100\n"
     ]
    },
    {
     "name": "stderr",
     "output_type": "stream",
     "text": [
      "100%|██████████| 9/9 [00:00<00:00, 481.18it/s]\n"
     ]
    },
    {
     "name": "stdout",
     "output_type": "stream",
     "text": [
      "Train Loss = 0.4455\n",
      "Epoch: 32 / 100\n"
     ]
    },
    {
     "name": "stderr",
     "output_type": "stream",
     "text": [
      "100%|██████████| 9/9 [00:00<00:00, 511.39it/s]\n"
     ]
    },
    {
     "name": "stdout",
     "output_type": "stream",
     "text": [
      "Train Loss = 0.4409\n",
      "Epoch: 33 / 100\n"
     ]
    },
    {
     "name": "stderr",
     "output_type": "stream",
     "text": [
      "100%|██████████| 9/9 [00:00<00:00, 578.37it/s]\n"
     ]
    },
    {
     "name": "stdout",
     "output_type": "stream",
     "text": [
      "Train Loss = 0.4336\n",
      "Epoch: 34 / 100\n"
     ]
    },
    {
     "name": "stderr",
     "output_type": "stream",
     "text": [
      "100%|██████████| 9/9 [00:00<00:00, 517.21it/s]\n"
     ]
    },
    {
     "name": "stdout",
     "output_type": "stream",
     "text": [
      "Train Loss = 0.4299\n",
      "Epoch: 35 / 100\n"
     ]
    },
    {
     "name": "stderr",
     "output_type": "stream",
     "text": [
      "100%|██████████| 9/9 [00:00<00:00, 516.41it/s]\n"
     ]
    },
    {
     "name": "stdout",
     "output_type": "stream",
     "text": [
      "Train Loss = 0.4266\n",
      "Epoch: 36 / 100\n"
     ]
    },
    {
     "name": "stderr",
     "output_type": "stream",
     "text": [
      "100%|██████████| 9/9 [00:00<00:00, 523.13it/s]\n"
     ]
    },
    {
     "name": "stdout",
     "output_type": "stream",
     "text": [
      "Train Loss = 0.4234\n",
      "Epoch: 37 / 100\n"
     ]
    },
    {
     "name": "stderr",
     "output_type": "stream",
     "text": [
      "100%|██████████| 9/9 [00:00<00:00, 566.64it/s]\n"
     ]
    },
    {
     "name": "stdout",
     "output_type": "stream",
     "text": [
      "Train Loss = 0.4203\n",
      "Epoch: 38 / 100\n"
     ]
    },
    {
     "name": "stderr",
     "output_type": "stream",
     "text": [
      "100%|██████████| 9/9 [00:00<00:00, 499.45it/s]\n"
     ]
    },
    {
     "name": "stdout",
     "output_type": "stream",
     "text": [
      "Train Loss = 0.4156\n",
      "Epoch: 39 / 100\n"
     ]
    },
    {
     "name": "stderr",
     "output_type": "stream",
     "text": [
      "100%|██████████| 9/9 [00:00<00:00, 478.80it/s]\n"
     ]
    },
    {
     "name": "stdout",
     "output_type": "stream",
     "text": [
      "Train Loss = 0.4121\n",
      "Epoch: 40 / 100\n"
     ]
    },
    {
     "name": "stderr",
     "output_type": "stream",
     "text": [
      "100%|██████████| 9/9 [00:00<00:00, 493.11it/s]\n"
     ]
    },
    {
     "name": "stdout",
     "output_type": "stream",
     "text": [
      "Train Loss = 0.4091\n",
      "Epoch: 41 / 100\n"
     ]
    },
    {
     "name": "stderr",
     "output_type": "stream",
     "text": [
      "100%|██████████| 9/9 [00:00<00:00, 450.61it/s]\n"
     ]
    },
    {
     "name": "stdout",
     "output_type": "stream",
     "text": [
      "Train Loss = 0.4049\n",
      "Epoch: 42 / 100\n"
     ]
    },
    {
     "name": "stderr",
     "output_type": "stream",
     "text": [
      "100%|██████████| 9/9 [00:00<00:00, 495.40it/s]\n"
     ]
    },
    {
     "name": "stdout",
     "output_type": "stream",
     "text": [
      "Train Loss = 0.4006\n",
      "Epoch: 43 / 100\n"
     ]
    },
    {
     "name": "stderr",
     "output_type": "stream",
     "text": [
      "100%|██████████| 9/9 [00:00<00:00, 545.39it/s]\n"
     ]
    },
    {
     "name": "stdout",
     "output_type": "stream",
     "text": [
      "Train Loss = 0.3979\n",
      "Epoch: 44 / 100\n"
     ]
    },
    {
     "name": "stderr",
     "output_type": "stream",
     "text": [
      "100%|██████████| 9/9 [00:00<00:00, 479.06it/s]\n"
     ]
    },
    {
     "name": "stdout",
     "output_type": "stream",
     "text": [
      "Train Loss = 0.3935\n",
      "Epoch: 45 / 100\n"
     ]
    },
    {
     "name": "stderr",
     "output_type": "stream",
     "text": [
      "100%|██████████| 9/9 [00:00<00:00, 531.95it/s]\n"
     ]
    },
    {
     "name": "stdout",
     "output_type": "stream",
     "text": [
      "Train Loss = 0.3933\n",
      "Epoch: 46 / 100\n"
     ]
    },
    {
     "name": "stderr",
     "output_type": "stream",
     "text": [
      "100%|██████████| 9/9 [00:00<00:00, 533.20it/s]\n"
     ]
    },
    {
     "name": "stdout",
     "output_type": "stream",
     "text": [
      "Train Loss = 0.3884\n",
      "Epoch: 47 / 100\n"
     ]
    },
    {
     "name": "stderr",
     "output_type": "stream",
     "text": [
      "100%|██████████| 9/9 [00:00<00:00, 506.50it/s]\n"
     ]
    },
    {
     "name": "stdout",
     "output_type": "stream",
     "text": [
      "Train Loss = 0.3826\n",
      "Epoch: 48 / 100\n"
     ]
    },
    {
     "name": "stderr",
     "output_type": "stream",
     "text": [
      "100%|██████████| 9/9 [00:00<00:00, 520.77it/s]\n"
     ]
    },
    {
     "name": "stdout",
     "output_type": "stream",
     "text": [
      "Train Loss = 0.3805\n",
      "Epoch: 49 / 100\n"
     ]
    },
    {
     "name": "stderr",
     "output_type": "stream",
     "text": [
      "100%|██████████| 9/9 [00:00<00:00, 501.62it/s]\n"
     ]
    },
    {
     "name": "stdout",
     "output_type": "stream",
     "text": [
      "Train Loss = 0.3797\n",
      "Epoch: 50 / 100\n"
     ]
    },
    {
     "name": "stderr",
     "output_type": "stream",
     "text": [
      "100%|██████████| 9/9 [00:00<00:00, 490.84it/s]\n"
     ]
    },
    {
     "name": "stdout",
     "output_type": "stream",
     "text": [
      "Train Loss = 0.3752\n",
      "Epoch: 51 / 100\n"
     ]
    },
    {
     "name": "stderr",
     "output_type": "stream",
     "text": [
      "100%|██████████| 9/9 [00:00<00:00, 565.22it/s]\n"
     ]
    },
    {
     "name": "stdout",
     "output_type": "stream",
     "text": [
      "Train Loss = 0.3729\n",
      "Epoch: 52 / 100\n"
     ]
    },
    {
     "name": "stderr",
     "output_type": "stream",
     "text": [
      "100%|██████████| 9/9 [00:00<00:00, 453.69it/s]\n"
     ]
    },
    {
     "name": "stdout",
     "output_type": "stream",
     "text": [
      "Train Loss = 0.3694\n",
      "Epoch: 53 / 100\n"
     ]
    },
    {
     "name": "stderr",
     "output_type": "stream",
     "text": [
      "100%|██████████| 9/9 [00:00<00:00, 493.07it/s]\n"
     ]
    },
    {
     "name": "stdout",
     "output_type": "stream",
     "text": [
      "Train Loss = 0.3646\n",
      "Epoch: 54 / 100\n"
     ]
    },
    {
     "name": "stderr",
     "output_type": "stream",
     "text": [
      "100%|██████████| 9/9 [00:00<00:00, 418.78it/s]\n"
     ]
    },
    {
     "name": "stdout",
     "output_type": "stream",
     "text": [
      "Train Loss = 0.3664\n",
      "Epoch: 55 / 100\n"
     ]
    },
    {
     "name": "stderr",
     "output_type": "stream",
     "text": [
      "100%|██████████| 9/9 [00:00<00:00, 437.00it/s]\n"
     ]
    },
    {
     "name": "stdout",
     "output_type": "stream",
     "text": [
      "Train Loss = 0.3608\n",
      "Epoch: 56 / 100\n"
     ]
    },
    {
     "name": "stderr",
     "output_type": "stream",
     "text": [
      "100%|██████████| 9/9 [00:00<00:00, 494.77it/s]\n"
     ]
    },
    {
     "name": "stdout",
     "output_type": "stream",
     "text": [
      "Train Loss = 0.3605\n",
      "Epoch: 57 / 100\n"
     ]
    },
    {
     "name": "stderr",
     "output_type": "stream",
     "text": [
      "100%|██████████| 9/9 [00:00<00:00, 496.17it/s]\n"
     ]
    },
    {
     "name": "stdout",
     "output_type": "stream",
     "text": [
      "Train Loss = 0.3577\n",
      "Epoch: 58 / 100\n"
     ]
    },
    {
     "name": "stderr",
     "output_type": "stream",
     "text": [
      "100%|██████████| 9/9 [00:00<00:00, 523.13it/s]\n"
     ]
    },
    {
     "name": "stdout",
     "output_type": "stream",
     "text": [
      "Train Loss = 0.3534\n",
      "Epoch: 59 / 100\n"
     ]
    },
    {
     "name": "stderr",
     "output_type": "stream",
     "text": [
      "100%|██████████| 9/9 [00:00<00:00, 518.97it/s]\n"
     ]
    },
    {
     "name": "stdout",
     "output_type": "stream",
     "text": [
      "Train Loss = 0.3510\n",
      "Epoch: 60 / 100\n"
     ]
    },
    {
     "name": "stderr",
     "output_type": "stream",
     "text": [
      "100%|██████████| 9/9 [00:00<00:00, 517.84it/s]\n"
     ]
    },
    {
     "name": "stdout",
     "output_type": "stream",
     "text": [
      "Train Loss = 0.3473\n",
      "Epoch: 61 / 100\n"
     ]
    },
    {
     "name": "stderr",
     "output_type": "stream",
     "text": [
      "100%|██████████| 9/9 [00:00<00:00, 515.38it/s]\n"
     ]
    },
    {
     "name": "stdout",
     "output_type": "stream",
     "text": [
      "Train Loss = 0.3452\n",
      "Epoch: 62 / 100\n"
     ]
    },
    {
     "name": "stderr",
     "output_type": "stream",
     "text": [
      "100%|██████████| 9/9 [00:00<00:00, 523.41it/s]\n"
     ]
    },
    {
     "name": "stdout",
     "output_type": "stream",
     "text": [
      "Train Loss = 0.3409\n",
      "Epoch: 63 / 100\n"
     ]
    },
    {
     "name": "stderr",
     "output_type": "stream",
     "text": [
      "100%|██████████| 9/9 [00:00<00:00, 495.21it/s]\n"
     ]
    },
    {
     "name": "stdout",
     "output_type": "stream",
     "text": [
      "Train Loss = 0.3410\n",
      "Epoch: 64 / 100\n"
     ]
    },
    {
     "name": "stderr",
     "output_type": "stream",
     "text": [
      "100%|██████████| 9/9 [00:00<00:00, 494.40it/s]\n"
     ]
    },
    {
     "name": "stdout",
     "output_type": "stream",
     "text": [
      "Train Loss = 0.3433\n",
      "Epoch: 65 / 100\n"
     ]
    },
    {
     "name": "stderr",
     "output_type": "stream",
     "text": [
      "100%|██████████| 9/9 [00:00<00:00, 533.85it/s]\n"
     ]
    },
    {
     "name": "stdout",
     "output_type": "stream",
     "text": [
      "Train Loss = 0.3371\n",
      "Epoch: 66 / 100\n"
     ]
    },
    {
     "name": "stderr",
     "output_type": "stream",
     "text": [
      "100%|██████████| 9/9 [00:00<00:00, 553.70it/s]\n"
     ]
    },
    {
     "name": "stdout",
     "output_type": "stream",
     "text": [
      "Train Loss = 0.3335\n",
      "Epoch: 67 / 100\n"
     ]
    },
    {
     "name": "stderr",
     "output_type": "stream",
     "text": [
      "100%|██████████| 9/9 [00:00<00:00, 462.65it/s]\n"
     ]
    },
    {
     "name": "stdout",
     "output_type": "stream",
     "text": [
      "Train Loss = 0.3315\n",
      "Epoch: 68 / 100\n"
     ]
    },
    {
     "name": "stderr",
     "output_type": "stream",
     "text": [
      "100%|██████████| 9/9 [00:00<00:00, 503.46it/s]\n"
     ]
    },
    {
     "name": "stdout",
     "output_type": "stream",
     "text": [
      "Train Loss = 0.3317\n",
      "Epoch: 69 / 100\n"
     ]
    },
    {
     "name": "stderr",
     "output_type": "stream",
     "text": [
      "100%|██████████| 9/9 [00:00<00:00, 506.95it/s]\n"
     ]
    },
    {
     "name": "stdout",
     "output_type": "stream",
     "text": [
      "Train Loss = 0.3287\n",
      "Epoch: 70 / 100\n"
     ]
    },
    {
     "name": "stderr",
     "output_type": "stream",
     "text": [
      "100%|██████████| 9/9 [00:00<00:00, 447.94it/s]\n"
     ]
    },
    {
     "name": "stdout",
     "output_type": "stream",
     "text": [
      "Train Loss = 0.3263\n",
      "Epoch: 71 / 100\n"
     ]
    },
    {
     "name": "stderr",
     "output_type": "stream",
     "text": [
      "100%|██████████| 9/9 [00:00<00:00, 524.54it/s]\n"
     ]
    },
    {
     "name": "stdout",
     "output_type": "stream",
     "text": [
      "Train Loss = 0.3243\n",
      "Epoch: 72 / 100\n"
     ]
    },
    {
     "name": "stderr",
     "output_type": "stream",
     "text": [
      "100%|██████████| 9/9 [00:00<00:00, 534.56it/s]\n"
     ]
    },
    {
     "name": "stdout",
     "output_type": "stream",
     "text": [
      "Train Loss = 0.3212\n",
      "Epoch: 73 / 100\n"
     ]
    },
    {
     "name": "stderr",
     "output_type": "stream",
     "text": [
      "100%|██████████| 9/9 [00:00<00:00, 482.70it/s]\n"
     ]
    },
    {
     "name": "stdout",
     "output_type": "stream",
     "text": [
      "Train Loss = 0.3182\n",
      "Epoch: 74 / 100\n"
     ]
    },
    {
     "name": "stderr",
     "output_type": "stream",
     "text": [
      "100%|██████████| 9/9 [00:00<00:00, 448.97it/s]\n"
     ]
    },
    {
     "name": "stdout",
     "output_type": "stream",
     "text": [
      "Train Loss = 0.3179\n",
      "Epoch: 75 / 100\n"
     ]
    },
    {
     "name": "stderr",
     "output_type": "stream",
     "text": [
      "100%|██████████| 9/9 [00:00<00:00, 481.70it/s]\n"
     ]
    },
    {
     "name": "stdout",
     "output_type": "stream",
     "text": [
      "Train Loss = 0.3139\n",
      "Epoch: 76 / 100\n"
     ]
    },
    {
     "name": "stderr",
     "output_type": "stream",
     "text": [
      "100%|██████████| 9/9 [00:00<00:00, 492.61it/s]\n"
     ]
    },
    {
     "name": "stdout",
     "output_type": "stream",
     "text": [
      "Train Loss = 0.3142\n",
      "Epoch: 77 / 100\n"
     ]
    },
    {
     "name": "stderr",
     "output_type": "stream",
     "text": [
      "100%|██████████| 9/9 [00:00<00:00, 489.55it/s]\n"
     ]
    },
    {
     "name": "stdout",
     "output_type": "stream",
     "text": [
      "Train Loss = 0.3099\n",
      "Epoch: 78 / 100\n"
     ]
    },
    {
     "name": "stderr",
     "output_type": "stream",
     "text": [
      "100%|██████████| 9/9 [00:00<00:00, 507.07it/s]\n"
     ]
    },
    {
     "name": "stdout",
     "output_type": "stream",
     "text": [
      "Train Loss = 0.3084\n",
      "Epoch: 79 / 100\n"
     ]
    },
    {
     "name": "stderr",
     "output_type": "stream",
     "text": [
      "100%|██████████| 9/9 [00:00<00:00, 542.16it/s]\n"
     ]
    },
    {
     "name": "stdout",
     "output_type": "stream",
     "text": [
      "Train Loss = 0.3067\n",
      "Epoch: 80 / 100\n"
     ]
    },
    {
     "name": "stderr",
     "output_type": "stream",
     "text": [
      "100%|██████████| 9/9 [00:00<00:00, 480.51it/s]\n"
     ]
    },
    {
     "name": "stdout",
     "output_type": "stream",
     "text": [
      "Train Loss = 0.3053\n",
      "Epoch: 81 / 100\n"
     ]
    },
    {
     "name": "stderr",
     "output_type": "stream",
     "text": [
      "100%|██████████| 9/9 [00:00<00:00, 483.14it/s]\n"
     ]
    },
    {
     "name": "stdout",
     "output_type": "stream",
     "text": [
      "Train Loss = 0.3051\n",
      "Epoch: 82 / 100\n"
     ]
    },
    {
     "name": "stderr",
     "output_type": "stream",
     "text": [
      "100%|██████████| 9/9 [00:00<00:00, 486.85it/s]\n"
     ]
    },
    {
     "name": "stdout",
     "output_type": "stream",
     "text": [
      "Train Loss = 0.3016\n",
      "Epoch: 83 / 100\n"
     ]
    },
    {
     "name": "stderr",
     "output_type": "stream",
     "text": [
      "100%|██████████| 9/9 [00:00<00:00, 490.30it/s]\n"
     ]
    },
    {
     "name": "stdout",
     "output_type": "stream",
     "text": [
      "Train Loss = 0.3014\n",
      "Epoch: 84 / 100\n"
     ]
    },
    {
     "name": "stderr",
     "output_type": "stream",
     "text": [
      "100%|██████████| 9/9 [00:00<00:00, 575.85it/s]\n"
     ]
    },
    {
     "name": "stdout",
     "output_type": "stream",
     "text": [
      "Train Loss = 0.2992\n",
      "Epoch: 85 / 100\n"
     ]
    },
    {
     "name": "stderr",
     "output_type": "stream",
     "text": [
      "100%|██████████| 9/9 [00:00<00:00, 444.65it/s]\n"
     ]
    },
    {
     "name": "stdout",
     "output_type": "stream",
     "text": [
      "Train Loss = 0.2956\n",
      "Epoch: 86 / 100\n"
     ]
    },
    {
     "name": "stderr",
     "output_type": "stream",
     "text": [
      "100%|██████████| 9/9 [00:00<00:00, 503.30it/s]\n"
     ]
    },
    {
     "name": "stdout",
     "output_type": "stream",
     "text": [
      "Train Loss = 0.2984\n",
      "Epoch: 87 / 100\n"
     ]
    },
    {
     "name": "stderr",
     "output_type": "stream",
     "text": [
      "100%|██████████| 9/9 [00:00<00:00, 511.48it/s]\n"
     ]
    },
    {
     "name": "stdout",
     "output_type": "stream",
     "text": [
      "Train Loss = 0.2975\n",
      "Epoch: 88 / 100\n"
     ]
    },
    {
     "name": "stderr",
     "output_type": "stream",
     "text": [
      "100%|██████████| 9/9 [00:00<00:00, 480.69it/s]\n"
     ]
    },
    {
     "name": "stdout",
     "output_type": "stream",
     "text": [
      "Train Loss = 0.2941\n",
      "Epoch: 89 / 100\n"
     ]
    },
    {
     "name": "stderr",
     "output_type": "stream",
     "text": [
      "100%|██████████| 9/9 [00:00<00:00, 177.38it/s]\n"
     ]
    },
    {
     "name": "stdout",
     "output_type": "stream",
     "text": [
      "Train Loss = 0.2933\n",
      "Epoch: 90 / 100\n"
     ]
    },
    {
     "name": "stderr",
     "output_type": "stream",
     "text": [
      "100%|██████████| 9/9 [00:00<00:00, 334.41it/s]\n"
     ]
    },
    {
     "name": "stdout",
     "output_type": "stream",
     "text": [
      "Train Loss = 0.2880\n",
      "Epoch: 91 / 100\n"
     ]
    },
    {
     "name": "stderr",
     "output_type": "stream",
     "text": [
      "100%|██████████| 9/9 [00:00<00:00, 489.46it/s]\n"
     ]
    },
    {
     "name": "stdout",
     "output_type": "stream",
     "text": [
      "Train Loss = 0.2884\n",
      "Epoch: 92 / 100\n"
     ]
    },
    {
     "name": "stderr",
     "output_type": "stream",
     "text": [
      "100%|██████████| 9/9 [00:00<00:00, 426.99it/s]\n"
     ]
    },
    {
     "name": "stdout",
     "output_type": "stream",
     "text": [
      "Train Loss = 0.2847\n",
      "Epoch: 93 / 100\n"
     ]
    },
    {
     "name": "stderr",
     "output_type": "stream",
     "text": [
      "100%|██████████| 9/9 [00:00<00:00, 451.97it/s]\n"
     ]
    },
    {
     "name": "stdout",
     "output_type": "stream",
     "text": [
      "Train Loss = 0.2836\n",
      "Epoch: 94 / 100\n"
     ]
    },
    {
     "name": "stderr",
     "output_type": "stream",
     "text": [
      "100%|██████████| 9/9 [00:00<00:00, 497.30it/s]\n"
     ]
    },
    {
     "name": "stdout",
     "output_type": "stream",
     "text": [
      "Train Loss = 0.2832\n",
      "Epoch: 95 / 100\n"
     ]
    },
    {
     "name": "stderr",
     "output_type": "stream",
     "text": [
      "100%|██████████| 9/9 [00:00<00:00, 516.00it/s]\n"
     ]
    },
    {
     "name": "stdout",
     "output_type": "stream",
     "text": [
      "Train Loss = 0.2812\n",
      "Epoch: 96 / 100\n"
     ]
    },
    {
     "name": "stderr",
     "output_type": "stream",
     "text": [
      "100%|██████████| 9/9 [00:00<00:00, 493.29it/s]\n"
     ]
    },
    {
     "name": "stdout",
     "output_type": "stream",
     "text": [
      "Train Loss = 0.2791\n",
      "Epoch: 97 / 100\n"
     ]
    },
    {
     "name": "stderr",
     "output_type": "stream",
     "text": [
      "100%|██████████| 9/9 [00:00<00:00, 473.73it/s]\n"
     ]
    },
    {
     "name": "stdout",
     "output_type": "stream",
     "text": [
      "Train Loss = 0.2773\n",
      "Epoch: 98 / 100\n"
     ]
    },
    {
     "name": "stderr",
     "output_type": "stream",
     "text": [
      "100%|██████████| 9/9 [00:00<00:00, 486.94it/s]\n"
     ]
    },
    {
     "name": "stdout",
     "output_type": "stream",
     "text": [
      "Train Loss = 0.2789\n",
      "Epoch: 99 / 100\n"
     ]
    },
    {
     "name": "stderr",
     "output_type": "stream",
     "text": [
      "100%|██████████| 9/9 [00:00<00:00, 503.77it/s]\n"
     ]
    },
    {
     "name": "stdout",
     "output_type": "stream",
     "text": [
      "Train Loss = 0.2745\n",
      "Epoch: 100 / 100\n"
     ]
    },
    {
     "name": "stderr",
     "output_type": "stream",
     "text": [
      "100%|██████████| 9/9 [00:00<00:00, 497.65it/s]"
     ]
    },
    {
     "name": "stdout",
     "output_type": "stream",
     "text": [
      "Train Loss = 0.2715\n"
     ]
    },
    {
     "name": "stderr",
     "output_type": "stream",
     "text": [
      "\n"
     ]
    }
   ],
   "source": [
    "# implement the training function of our email classier\n",
    "def train_classifier(classifier, optimizer, loss_fn, train_loader, epochs=20):\n",
    "    training_losses = []\n",
    "    # training_f1_scores = []\n",
    "\n",
    "    for epoch in range(epochs):\n",
    "        print(f\"Epoch: {epoch + 1} / {epochs}\")\n",
    "        loss_ = 0.0\n",
    "        # f1_score_ = 0.0\n",
    "        for data, labels in tqdm(train_loader):\n",
    "            # print(labels.shape)\n",
    "            data = data.float()\n",
    "            # print(data.max())\n",
    "            y = labels.long().float()\n",
    "            # train the classifier\n",
    "            optimizer.zero_grad()\n",
    "            # performs sigmoid (torch.matmul(X.T, W) + b) and returns output\n",
    "            preds = classifier(data)\n",
    "\n",
    "            # computes the loss function\n",
    "            # print(preds.max(), y.max())\n",
    "            loss = loss_fn(preds, y)\n",
    "            loss.backward()  # compute gradients using back propagation.\n",
    "\n",
    "            # update the classifier's weights (W) and bia(sb)\n",
    "            optimizer.step()\n",
    "\n",
    "            loss_ += loss.item()\n",
    "            # f1_score_ += f1_score(y.cpu().detach().numpy(), preds.cpu().detach().numpy())\n",
    "        loss_ = loss_ / len(train_loader)\n",
    "        training_losses.append(loss_)\n",
    "        print(f\"Train Loss = { loss_:.4f}\")\n",
    "\n",
    "    return training_losses\n",
    "\n",
    "\n",
    "# train the classifier\n",
    "EPOCHS = 100\n",
    "training_losses = train_classifier(\n",
    "    classifier, optimizer, loss_fn, train_loader, epochs=EPOCHS\n",
    ")"
   ]
  },
  {
   "cell_type": "code",
   "execution_count": 35,
   "metadata": {},
   "outputs": [
    {
     "data": {
      "image/png": "[encoded data removed]",
      "text/plain": [
       "<Figure size 640x480 with 1 Axes>"
      ]
     },
     "metadata": {},
     "output_type": "display_data"
    }
   ],
   "source": [
    "x = torch.arange(0, EPOCHS)\n",
    "plt.plot(x, training_losses)\n",
    "plt.title(\"Classifier Training Loss Curve\")\n",
    "plt.xlabel(\"Epochs\")\n",
    "plt.ylabel(\"Training Loss\")\n",
    "plt.show()"
   ]
  },
  {
   "cell_type": "code",
   "execution_count": 36,
   "metadata": {},
   "outputs": [
    {
     "name": "stdout",
     "output_type": "stream",
     "text": [
      "Accuracy = 93.70%\n",
      "Precision = 89.77%\n",
      "Recall = 98.94%\n",
      "F1 Score = 94.13%\n"
     ]
    }
   ],
   "source": [
    "# evaluate the classifier's performance on the testing set using accuracy, precision, recall, and f1 score\n",
    "\n",
    "\n",
    "def evaluate_classifier(classifier, test_loader):\n",
    "    with torch.no_grad():\n",
    "        # set the classifier on eval mode\n",
    "        classifier.eval()\n",
    "\n",
    "        preds = []\n",
    "        targets = []\n",
    "\n",
    "        for data, labels in test_loader:\n",
    "            data = data.float()\n",
    "            y = labels.data.long().tolist()\n",
    "            y_pred = classifier(data)\n",
    "            y_pred = torch.round(y_pred).long().tolist()\n",
    "\n",
    "            # keep all target values in ground_truth list\n",
    "            targets.extend(y)\n",
    "            # keep all predicted values in preds list\n",
    "            preds.extend(y_pred)\n",
    "\n",
    "        # get accuracy, recall, precision, and f1_score\n",
    "        acc = accuracy_score(targets, preds) * 100\n",
    "        prec = precision_score(targets, preds) * 100\n",
    "        recall = recall_score(targets, preds) * 100\n",
    "        f1 = f1_score(targets, preds) * 100\n",
    "        print(f\"Accuracy = {acc:.2f}%\")\n",
    "        print(f\"Precision = {prec:.2f}%\")\n",
    "        print(f\"Recall = {recall:.2f}%\")\n",
    "        print(f\"F1 Score = {f1:.2f}%\")\n",
    "\n",
    "\n",
    "evaluate_classifier(classifier, test_loader)"
   ]
  },
  {
   "cell_type": "code",
   "execution_count": 37,
   "metadata": {},
   "outputs": [
    {
     "data": {
      "text/plain": [
       "['scaler.joblib']"
      ]
     },
     "execution_count": 37,
     "metadata": {},
     "output_type": "execute_result"
    }
   ],
   "source": [
    "# save the min-max scaler and feature extractor (i.e., the countvectorizer)\n",
    "\n",
    "import joblib\n",
    "\n",
    "# save models\n",
    "joblib.dump(vectorizer, \"vectorizer.joblib\")\n",
    "joblib.dump(min_max_scaler, \"scaler.joblib\")"
   ]
  },
  {
   "cell_type": "code",
   "execution_count": 38,
   "metadata": {},
   "outputs": [],
   "source": [
    "# save pytorch model\n",
    "torch.save(classifier.state_dict(), \"classifier.pt\")"
   ]
  },
  {
   "cell_type": "markdown",
   "metadata": {},
   "source": [
    "# [Optional]:Deploying your model online for public use\n",
    "\n",
    "There is also a streamlit_app.py file in this repository. If you wish to deploy your model for public use:\n",
    "\n",
    "- you can create github account\n",
    "\n",
    "- create a repository and upload your (this) code to github repo\n",
    "\n",
    "- create streamlit cloud community account\n",
    "\n",
    "- connect streamlit account with your github account.\n",
    "\n",
    "- deploy your code to streamlit cloud [tutorial](https://streamlit.io/cloud)\n",
    "\n",
    "- Now, you and anyone else can access and use your model. Congratulations!\n"
   ]
  }
 ],
 "metadata": {
  "kernelspec": {
   "display_name": "graphganvenv",
   "language": "python",
   "name": "python3"
  },
  "language_info": {
   "codemirror_mode": {
    "name": "ipython",
    "version": 3
   },
   "file_extension": ".py",
   "mimetype": "text/x-python",
   "name": "python",
   "nbconvert_exporter": "python",
   "pygments_lexer": "ipython3",
   "version": "3.12.0"
  }
 },
 "nbformat": 4,
 "nbformat_minor": 2
}
